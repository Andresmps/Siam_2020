{
  "nbformat": 4,
  "nbformat_minor": 0,
  "metadata": {
    "kernelspec": {
      "display_name": "Python 3",
      "language": "python",
      "name": "python3"
    },
    "language_info": {
      "codemirror_mode": {
        "name": "ipython",
        "version": 3
      },
      "file_extension": ".py",
      "mimetype": "text/x-python",
      "name": "python",
      "nbconvert_exporter": "python",
      "pygments_lexer": "ipython3",
      "version": "3.7.6"
    },
    "colab": {
      "name": "model_sentimental_analysis.ipynb",
      "provenance": [],
      "toc_visible": true
    }
  },
  "cells": [
    {
      "cell_type": "code",
      "metadata": {
        "id": "LG5eWX5KVxBf"
      },
      "source": [
        "import json\n",
        "import tweepy\n",
        "import pandas as pd\n",
        "import numpy as np\n",
        "import matplotlib.pyplot as plt\n",
        "import missingno as msno\n",
        "import time\n",
        "import seaborn as sns\n",
        "import regex\n",
        "\n",
        "from datetime import datetime"
      ],
      "execution_count": 1,
      "outputs": []
    },
    {
      "cell_type": "code",
      "metadata": {
        "id": "MOFf6obYX7gp"
      },
      "source": [
        "# !pip install emoji"
      ],
      "execution_count": 2,
      "outputs": []
    },
    {
      "cell_type": "code",
      "metadata": {
        "id": "HwZzzMgUVxBl"
      },
      "source": [
        "import nltk\n",
        "import contractions\n",
        "import re\n",
        "import emoji\n",
        "import emojis\n",
        "import wordcloud as wc\n",
        "import string\n",
        "\n",
        "from collections import Counter"
      ],
      "execution_count": 3,
      "outputs": []
    },
    {
      "cell_type": "code",
      "metadata": {
        "id": "WZzvemsXVxBq"
      },
      "source": [
        "from sklearn.model_selection import train_test_split\n",
        "from sklearn.model_selection import train_test_split\n",
        "from sklearn.linear_model import LogisticRegression\n",
        "\n",
        "from sklearn.metrics import confusion_matrix, classification_report\n",
        "from sklearn.feature_extraction.text import CountVectorizer\n"
      ],
      "execution_count": 4,
      "outputs": []
    },
    {
      "cell_type": "code",
      "metadata": {
        "id": "aZ1bklwlVxB0",
        "outputId": "3014db2a-6289-42c5-d345-0a43d54a0dd4",
        "colab": {
          "base_uri": "https://localhost:8080/",
          "height": 190
        }
      },
      "source": [
        "\n",
        "nltk.download('punkt')\n",
        "nltk.download('wordnet')\n",
        "nltk.download('stopwords')\n",
        "nltk.download('averaged_perceptron_tagger')\n",
        "stop_words = nltk.corpus.stopwords.words('spanish')"
      ],
      "execution_count": 5,
      "outputs": [
        {
          "output_type": "stream",
          "text": [
            "[nltk_data] Downloading package punkt to /root/nltk_data...\n",
            "[nltk_data]   Package punkt is already up-to-date!\n",
            "[nltk_data] Downloading package wordnet to /root/nltk_data...\n",
            "[nltk_data]   Package wordnet is already up-to-date!\n",
            "[nltk_data] Downloading package stopwords to /root/nltk_data...\n",
            "[nltk_data]   Package stopwords is already up-to-date!\n",
            "[nltk_data] Downloading package averaged_perceptron_tagger to\n",
            "[nltk_data]     /root/nltk_data...\n",
            "[nltk_data]   Package averaged_perceptron_tagger is already up-to-\n",
            "[nltk_data]       date!\n"
          ],
          "name": "stdout"
        }
      ]
    },
    {
      "cell_type": "code",
      "metadata": {
        "id": "qvfnzJdoVxB4"
      },
      "source": [
        "data = pd.read_csv('data_tweets_model.csv')"
      ],
      "execution_count": 6,
      "outputs": []
    },
    {
      "cell_type": "code",
      "metadata": {
        "id": "5IDN9inrVxB6",
        "outputId": "8a5a03a6-0680-4ee1-9b3f-8313f7bee4ec",
        "colab": {
          "base_uri": "https://localhost:8080/",
          "height": 473
        }
      },
      "source": [
        "print(data.shape)\n",
        "data.head(3)"
      ],
      "execution_count": 7,
      "outputs": [
        {
          "output_type": "stream",
          "text": [
            "(9846, 34)\n"
          ],
          "name": "stdout"
        },
        {
          "output_type": "execute_result",
          "data": {
            "text/html": [
              "<div>\n",
              "<style scoped>\n",
              "    .dataframe tbody tr th:only-of-type {\n",
              "        vertical-align: middle;\n",
              "    }\n",
              "\n",
              "    .dataframe tbody tr th {\n",
              "        vertical-align: top;\n",
              "    }\n",
              "\n",
              "    .dataframe thead th {\n",
              "        text-align: right;\n",
              "    }\n",
              "</style>\n",
              "<table border=\"1\" class=\"dataframe\">\n",
              "  <thead>\n",
              "    <tr style=\"text-align: right;\">\n",
              "      <th></th>\n",
              "      <th>created_at</th>\n",
              "      <th>status_id</th>\n",
              "      <th>user_id</th>\n",
              "      <th>screen_name</th>\n",
              "      <th>text</th>\n",
              "      <th>source</th>\n",
              "      <th>reply_to_status_id</th>\n",
              "      <th>reply_to_user_id</th>\n",
              "      <th>reply_to_screen_name</th>\n",
              "      <th>is_quote</th>\n",
              "      <th>is_retweet</th>\n",
              "      <th>favourites_count</th>\n",
              "      <th>retweet_count</th>\n",
              "      <th>place_full_name</th>\n",
              "      <th>place_type</th>\n",
              "      <th>followers_count</th>\n",
              "      <th>friends_count</th>\n",
              "      <th>account_created_at</th>\n",
              "      <th>verified</th>\n",
              "      <th>source_tweet</th>\n",
              "      <th>is_reply</th>\n",
              "      <th>hashtags</th>\n",
              "      <th>Sentiment</th>\n",
              "      <th>Mixed</th>\n",
              "      <th>Negative</th>\n",
              "      <th>Neutral</th>\n",
              "      <th>Positive</th>\n",
              "      <th>mentions</th>\n",
              "      <th>emojis</th>\n",
              "      <th>REGION</th>\n",
              "      <th>CÓDIGO DANE DEL DEPARTAMENTO</th>\n",
              "      <th>DEPARTAMENTO</th>\n",
              "      <th>CÓDIGO DANE DEL MUNICIPIO</th>\n",
              "      <th>score</th>\n",
              "    </tr>\n",
              "  </thead>\n",
              "  <tbody>\n",
              "    <tr>\n",
              "      <th>0</th>\n",
              "      <td>2020-03-29 00:00:37</td>\n",
              "      <td>1244051801516711938</td>\n",
              "      <td>803282972317204480</td>\n",
              "      <td>redcomunitariat</td>\n",
              "      <td>Este lunes estaremos hablando sobre la situaci...</td>\n",
              "      <td>Twitter for iPhone</td>\n",
              "      <td>NaN</td>\n",
              "      <td>NaN</td>\n",
              "      <td>NaN</td>\n",
              "      <td>False</td>\n",
              "      <td>False</td>\n",
              "      <td>1119</td>\n",
              "      <td>4</td>\n",
              "      <td>SANTAFE DE BOGOTA D.C</td>\n",
              "      <td>city</td>\n",
              "      <td>2710</td>\n",
              "      <td>365</td>\n",
              "      <td>2016-11-28 17:02:39</td>\n",
              "      <td>False</td>\n",
              "      <td>https://twitter.com/redcomunitariat/status/124...</td>\n",
              "      <td>0</td>\n",
              "      <td>['#Covid_19']</td>\n",
              "      <td>NEUTRAL</td>\n",
              "      <td>0.000015</td>\n",
              "      <td>0.027391</td>\n",
              "      <td>0.522266</td>\n",
              "      <td>0.450328</td>\n",
              "      <td>['@PlayGrounder']</td>\n",
              "      <td>[]</td>\n",
              "      <td>Región Centro Oriente</td>\n",
              "      <td>11.0</td>\n",
              "      <td>SANTAFE DE BOGOTA D.C</td>\n",
              "      <td>11001.0</td>\n",
              "      <td>1</td>\n",
              "    </tr>\n",
              "    <tr>\n",
              "      <th>1</th>\n",
              "      <td>2020-03-29 00:01:33</td>\n",
              "      <td>1244052036511051778</td>\n",
              "      <td>2476348920</td>\n",
              "      <td>SebasCamposCol</td>\n",
              "      <td>Aquí con frío🥶 viendo cómo pasa la cuarentena🕯...</td>\n",
              "      <td>Twitter for Android</td>\n",
              "      <td>NaN</td>\n",
              "      <td>NaN</td>\n",
              "      <td>NaN</td>\n",
              "      <td>False</td>\n",
              "      <td>False</td>\n",
              "      <td>768</td>\n",
              "      <td>0</td>\n",
              "      <td>SANTAFE DE BOGOTA D.C</td>\n",
              "      <td>city</td>\n",
              "      <td>4194</td>\n",
              "      <td>204</td>\n",
              "      <td>2014-05-04 04:11:55</td>\n",
              "      <td>False</td>\n",
              "      <td>https://twitter.com/SebasCamposCol/status/1244...</td>\n",
              "      <td>0</td>\n",
              "      <td>['#yomequedoencasa', '#coronavirus']</td>\n",
              "      <td>NEUTRAL</td>\n",
              "      <td>0.001591</td>\n",
              "      <td>0.085628</td>\n",
              "      <td>0.811555</td>\n",
              "      <td>0.101227</td>\n",
              "      <td>[]</td>\n",
              "      <td>['🥶', '🕯']</td>\n",
              "      <td>Región Centro Oriente</td>\n",
              "      <td>11.0</td>\n",
              "      <td>SANTAFE DE BOGOTA D.C</td>\n",
              "      <td>11001.0</td>\n",
              "      <td>1</td>\n",
              "    </tr>\n",
              "    <tr>\n",
              "      <th>2</th>\n",
              "      <td>2020-03-29 00:02:45</td>\n",
              "      <td>1244052338412847104</td>\n",
              "      <td>239176842</td>\n",
              "      <td>Jonathan_518</td>\n",
              "      <td>Hoy es #sábado, apenas es hora de bañarme y or...</td>\n",
              "      <td>Twitter for iPhone</td>\n",
              "      <td>NaN</td>\n",
              "      <td>NaN</td>\n",
              "      <td>NaN</td>\n",
              "      <td>False</td>\n",
              "      <td>False</td>\n",
              "      <td>18</td>\n",
              "      <td>0</td>\n",
              "      <td>GUARNE</td>\n",
              "      <td>city</td>\n",
              "      <td>286</td>\n",
              "      <td>914</td>\n",
              "      <td>2011-01-17 00:53:22</td>\n",
              "      <td>False</td>\n",
              "      <td>https://twitter.com/Jonathan_518/status/124405...</td>\n",
              "      <td>0</td>\n",
              "      <td>['#sábado', '#Coronavirus', '#Covid_19']</td>\n",
              "      <td>NEUTRAL</td>\n",
              "      <td>0.000012</td>\n",
              "      <td>0.002819</td>\n",
              "      <td>0.864167</td>\n",
              "      <td>0.133002</td>\n",
              "      <td>[]</td>\n",
              "      <td>['🙄']</td>\n",
              "      <td>Región Eje Cafetero - Antioquia</td>\n",
              "      <td>5.0</td>\n",
              "      <td>ANTIOQUIA</td>\n",
              "      <td>5318.0</td>\n",
              "      <td>1</td>\n",
              "    </tr>\n",
              "  </tbody>\n",
              "</table>\n",
              "</div>"
            ],
            "text/plain": [
              "            created_at            status_id  ...  CÓDIGO DANE DEL MUNICIPIO score\n",
              "0  2020-03-29 00:00:37  1244051801516711938  ...                    11001.0     1\n",
              "1  2020-03-29 00:01:33  1244052036511051778  ...                    11001.0     1\n",
              "2  2020-03-29 00:02:45  1244052338412847104  ...                     5318.0     1\n",
              "\n",
              "[3 rows x 34 columns]"
            ]
          },
          "metadata": {
            "tags": []
          },
          "execution_count": 7
        }
      ]
    },
    {
      "cell_type": "code",
      "metadata": {
        "id": "VUbx0txoVxB9"
      },
      "source": [
        "data['score'] = (data['Positive'] > data['Negative']).apply(lambda x: 0 if x else 1)"
      ],
      "execution_count": 8,
      "outputs": []
    },
    {
      "cell_type": "code",
      "metadata": {
        "id": "ext4vjf9VxCA",
        "outputId": "b9d84c76-59a5-49bb-eb9f-ad96c93d5605",
        "colab": {
          "base_uri": "https://localhost:8080/",
          "height": 280
        }
      },
      "source": [
        "data['score'].value_counts().plot.bar()"
      ],
      "execution_count": 9,
      "outputs": [
        {
          "output_type": "execute_result",
          "data": {
            "text/plain": [
              "<matplotlib.axes._subplots.AxesSubplot at 0x7fd747d8a390>"
            ]
          },
          "metadata": {
            "tags": []
          },
          "execution_count": 9
        },
        {
          "output_type": "display_data",
          "data": {
            "image/png": "[encoded data removed]",
            "text/plain": [
              "<Figure size 432x288 with 1 Axes>"
            ]
          },
          "metadata": {
            "tags": [],
            "needs_background": "light"
          }
        }
      ]
    },
    {
      "cell_type": "code",
      "metadata": {
        "id": "6zuywZQUVxCD"
      },
      "source": [
        "def create_wordcloud(text, plt_):\n",
        "    wordcloud = wc.WordCloud(max_font_size=50,\n",
        "                          max_words=100,\n",
        "                          scale=10,\n",
        "                          background_color=\"white\")\\\n",
        "                          .generate(text)\n",
        "    plt.figure(figsize=(10,5))\n",
        "    plt_.imshow(wordcloud, interpolation=\"bilinear\")\n",
        "    plt_.axis(\"off\")\n",
        "#     plt.show()\n",
        "    \n",
        "def remove_links(text):\n",
        "    text_ = re.sub(r'https?:\\/\\/.*[\\r\\n]*', '', text, flags=re.MULTILINE)\n",
        "    return text_\n",
        "\n",
        "\n",
        "def get_emojis(text):\n",
        "    emoji_list = []\n",
        "    data = regex.findall(r'\\X', text)\n",
        "    for word in data:\n",
        "        if any(char in emoji.UNICODE_EMOJI for char in word):\n",
        "            emoji_list.append(word)\n",
        "\n",
        "    return emoji_list\n",
        "\n",
        "    \n",
        "def get_hashtags(text):\n",
        "    patter = re.compile(r\"#(\\w+)\")\n",
        "    all_hashtags = [f\"#{i}\" for i in patter.findall(text)]\n",
        "    return all_hashtags\n",
        "\n",
        "def get_mentions(text):\n",
        "    patter = re.compile(r\"@(\\w+)\")\n",
        "    all_hashtags = [f\"@{i}\" for i in patter.findall(text)]\n",
        "    return all_hashtags\n",
        "\n",
        "def remove_special_characters(text):\n",
        "    punctuation = string.punctuation+\"¡\"\n",
        "    text = re.sub(f\"[{punctuation}]\", '', text)\n",
        "    return text\n",
        "\n",
        "def remove_repeated_word(text):\n",
        "    tokens = nltk.word_tokenize(\" \".join(data3['text']))\n",
        "    \n",
        "\n",
        "def remove_stopwords(text):\n",
        "    tokens = nltk.word_tokenize(text)\n",
        "    tokens = [token.strip() for token in tokens]\n",
        "    filtered_tokens = [token for token in tokens if token.lower() not in stop_words]\n",
        "    filtered_text = \" \".join(filtered_tokens)    \n",
        "    return filtered_text\n",
        "\n",
        "def clean_df(df):\n",
        "    df['text'] = df['text'].apply(lambda x: x.replace('#', ''))\n",
        "    df['text'] = df['text'].apply(lambda x: x.replace('@', ''))\n",
        "    return df"
      ],
      "execution_count": 10,
      "outputs": []
    },
    {
      "cell_type": "code",
      "metadata": {
        "id": "1NcVDqd9VxCG"
      },
      "source": [
        "data_ = data[~data['text'].isnull()].copy()"
      ],
      "execution_count": 11,
      "outputs": []
    },
    {
      "cell_type": "code",
      "metadata": {
        "id": "SKb29OOgVxCI"
      },
      "source": [
        "data_ = clean_df(data_)"
      ],
      "execution_count": 12,
      "outputs": []
    },
    {
      "cell_type": "code",
      "metadata": {
        "id": "H4QCptQjVxCK",
        "outputId": "c99d8c42-a710-4a83-d1e9-5a7895f90180",
        "colab": {
          "base_uri": "https://localhost:8080/",
          "height": 34
        }
      },
      "source": [
        "X_train, X_test, y_train, y_test = train_test_split(data_[['text']], data_['score'], random_state=42)\n",
        "X_train.shape, X_test.shape"
      ],
      "execution_count": 13,
      "outputs": [
        {
          "output_type": "execute_result",
          "data": {
            "text/plain": [
              "((7374, 1), (2459, 1))"
            ]
          },
          "metadata": {
            "tags": []
          },
          "execution_count": 13
        }
      ]
    },
    {
      "cell_type": "code",
      "metadata": {
        "id": "lgkLfJhyVxCM"
      },
      "source": [
        ""
      ],
      "execution_count": 13,
      "outputs": []
    },
    {
      "cell_type": "markdown",
      "metadata": {
        "id": "2--3O5bkVxCO"
      },
      "source": [
        "### Count based Features"
      ]
    },
    {
      "cell_type": "code",
      "metadata": {
        "id": "yVp249WrVxCP"
      },
      "source": [
        "X_train['char_count'] = X_train['text'].apply(len)\n",
        "X_train['word_count'] = X_train['text'].apply(lambda x: len(x.split()))\n",
        "X_train['word_density'] = X_train['char_count'] / (X_train['word_count']+1)\n",
        "X_train['punctuation_count'] = X_train['text'].apply(lambda x: len(\"\".join(_ for _ in x if _ in string.punctuation))) \n",
        "X_train['title_word_count'] = X_train['text'].apply(lambda x: len([wrd for wrd in x.split() if wrd.istitle()]))\n",
        "X_train['upper_case_word_count'] = X_train['text'].apply(lambda x: len([wrd for wrd in x.split() if wrd.isupper()]))\n",
        "\n",
        "\n",
        "X_test['char_count'] = X_test['text'].apply(len)\n",
        "X_test['word_count'] = X_test['text'].apply(lambda x: len(x.split()))\n",
        "X_test['word_density'] = X_test['char_count'] / (X_test['word_count']+1)\n",
        "X_test['punctuation_count'] = X_test['text'].apply(lambda x: len(\"\".join(_ for _ in x if _ in string.punctuation))) \n",
        "X_test['title_word_count'] = X_test['text'].apply(lambda x: len([wrd for wrd in x.split() if wrd.istitle()]))\n",
        "X_test['upper_case_word_count'] = X_test['text'].apply(lambda x: len([wrd for wrd in x.split() if wrd.isupper()]))"
      ],
      "execution_count": 14,
      "outputs": []
    },
    {
      "cell_type": "code",
      "metadata": {
        "id": "gci3o_t-VxCS",
        "outputId": "70ea22a2-5bd5-410e-c90c-a5b6566e0def",
        "colab": {
          "base_uri": "https://localhost:8080/",
          "height": 202
        }
      },
      "source": [
        "X_train.head()"
      ],
      "execution_count": 15,
      "outputs": [
        {
          "output_type": "execute_result",
          "data": {
            "text/html": [
              "<div>\n",
              "<style scoped>\n",
              "    .dataframe tbody tr th:only-of-type {\n",
              "        vertical-align: middle;\n",
              "    }\n",
              "\n",
              "    .dataframe tbody tr th {\n",
              "        vertical-align: top;\n",
              "    }\n",
              "\n",
              "    .dataframe thead th {\n",
              "        text-align: right;\n",
              "    }\n",
              "</style>\n",
              "<table border=\"1\" class=\"dataframe\">\n",
              "  <thead>\n",
              "    <tr style=\"text-align: right;\">\n",
              "      <th></th>\n",
              "      <th>text</th>\n",
              "      <th>char_count</th>\n",
              "      <th>word_count</th>\n",
              "      <th>word_density</th>\n",
              "      <th>punctuation_count</th>\n",
              "      <th>title_word_count</th>\n",
              "      <th>upper_case_word_count</th>\n",
              "    </tr>\n",
              "  </thead>\n",
              "  <tbody>\n",
              "    <tr>\n",
              "      <th>6512</th>\n",
              "      <td>AEstaHora otro punto de la ciudad es parte de ...</td>\n",
              "      <td>180</td>\n",
              "      <td>30</td>\n",
              "      <td>5.806452</td>\n",
              "      <td>2</td>\n",
              "      <td>1</td>\n",
              "      <td>1</td>\n",
              "    </tr>\n",
              "    <tr>\n",
              "      <th>7717</th>\n",
              "      <td>COVID-19 | Colombia | 24abr2020\\nVersión .pdf:...</td>\n",
              "      <td>77</td>\n",
              "      <td>10</td>\n",
              "      <td>7.000000</td>\n",
              "      <td>6</td>\n",
              "      <td>4</td>\n",
              "      <td>2</td>\n",
              "    </tr>\n",
              "    <tr>\n",
              "      <th>1994</th>\n",
              "      <td>Cifras sobre la ampliación de los servicios de...</td>\n",
              "      <td>159</td>\n",
              "      <td>23</td>\n",
              "      <td>6.625000</td>\n",
              "      <td>1</td>\n",
              "      <td>2</td>\n",
              "      <td>1</td>\n",
              "    </tr>\n",
              "    <tr>\n",
              "      <th>5177</th>\n",
              "      <td>En la reunión virtual 👩🏻‍💻que llevamos a esta ...</td>\n",
              "      <td>189</td>\n",
              "      <td>28</td>\n",
              "      <td>6.517241</td>\n",
              "      <td>1</td>\n",
              "      <td>2</td>\n",
              "      <td>3</td>\n",
              "    </tr>\n",
              "    <tr>\n",
              "      <th>7791</th>\n",
              "      <td>¿Cuál es el mejor material para un tapabocas c...</td>\n",
              "      <td>53</td>\n",
              "      <td>9</td>\n",
              "      <td>5.300000</td>\n",
              "      <td>1</td>\n",
              "      <td>1</td>\n",
              "      <td>0</td>\n",
              "    </tr>\n",
              "  </tbody>\n",
              "</table>\n",
              "</div>"
            ],
            "text/plain": [
              "                                                   text  ...  upper_case_word_count\n",
              "6512  AEstaHora otro punto de la ciudad es parte de ...  ...                      1\n",
              "7717  COVID-19 | Colombia | 24abr2020\\nVersión .pdf:...  ...                      2\n",
              "1994  Cifras sobre la ampliación de los servicios de...  ...                      1\n",
              "5177  En la reunión virtual 👩🏻‍💻que llevamos a esta ...  ...                      3\n",
              "7791  ¿Cuál es el mejor material para un tapabocas c...  ...                      0\n",
              "\n",
              "[5 rows x 7 columns]"
            ]
          },
          "metadata": {
            "tags": []
          },
          "execution_count": 15
        }
      ]
    },
    {
      "cell_type": "markdown",
      "metadata": {
        "id": "ihABItDsVxCU"
      },
      "source": [
        "## Training a Logistic Model"
      ]
    },
    {
      "cell_type": "code",
      "metadata": {
        "id": "6QgWhW-IVxCU"
      },
      "source": [
        "log_reg = LogisticRegression(C=1, random_state=42, solver='liblinear')"
      ],
      "execution_count": 16,
      "outputs": []
    },
    {
      "cell_type": "code",
      "metadata": {
        "id": "v1SGa8ljVxCX"
      },
      "source": [
        "log_reg.fit(X_train.drop(['text'], axis=1), y_train)\n",
        "predictions = log_reg.predict(X_test.drop(['text'], axis=1))"
      ],
      "execution_count": 17,
      "outputs": []
    },
    {
      "cell_type": "code",
      "metadata": {
        "id": "2X7Vrof5VxCZ",
        "outputId": "3290ba64-6d12-4d17-b742-5613fd24263f",
        "colab": {
          "base_uri": "https://localhost:8080/",
          "height": 52
        }
      },
      "source": [
        "log_reg.coef_"
      ],
      "execution_count": 18,
      "outputs": [
        {
          "output_type": "execute_result",
          "data": {
            "text/plain": [
              "array([[-0.0086319 ,  0.07836795, -0.11171836,  0.03890717, -0.07872397,\n",
              "         0.01427874]])"
            ]
          },
          "metadata": {
            "tags": []
          },
          "execution_count": 18
        }
      ]
    },
    {
      "cell_type": "markdown",
      "metadata": {
        "id": "rT5oTFM-VxCb"
      },
      "source": [
        "## Model Evaluation"
      ]
    },
    {
      "cell_type": "code",
      "metadata": {
        "id": "d9aNDCLgVxCc",
        "outputId": "9f35eeb2-1c70-4ec6-946d-78496fb5aa98",
        "colab": {
          "base_uri": "https://localhost:8080/",
          "height": 266
        }
      },
      "source": [
        "print(classification_report(y_test, predictions))\n",
        "pd.DataFrame(confusion_matrix(y_test, predictions))"
      ],
      "execution_count": 19,
      "outputs": [
        {
          "output_type": "stream",
          "text": [
            "              precision    recall  f1-score   support\n",
            "\n",
            "           0       0.64      0.78      0.70      1418\n",
            "           1       0.57      0.39      0.46      1041\n",
            "\n",
            "    accuracy                           0.62      2459\n",
            "   macro avg       0.60      0.59      0.58      2459\n",
            "weighted avg       0.61      0.62      0.60      2459\n",
            "\n"
          ],
          "name": "stdout"
        },
        {
          "output_type": "execute_result",
          "data": {
            "text/html": [
              "<div>\n",
              "<style scoped>\n",
              "    .dataframe tbody tr th:only-of-type {\n",
              "        vertical-align: middle;\n",
              "    }\n",
              "\n",
              "    .dataframe tbody tr th {\n",
              "        vertical-align: top;\n",
              "    }\n",
              "\n",
              "    .dataframe thead th {\n",
              "        text-align: right;\n",
              "    }\n",
              "</style>\n",
              "<table border=\"1\" class=\"dataframe\">\n",
              "  <thead>\n",
              "    <tr style=\"text-align: right;\">\n",
              "      <th></th>\n",
              "      <th>0</th>\n",
              "      <th>1</th>\n",
              "    </tr>\n",
              "  </thead>\n",
              "  <tbody>\n",
              "    <tr>\n",
              "      <th>0</th>\n",
              "      <td>1110</td>\n",
              "      <td>308</td>\n",
              "    </tr>\n",
              "    <tr>\n",
              "      <th>1</th>\n",
              "      <td>633</td>\n",
              "      <td>408</td>\n",
              "    </tr>\n",
              "  </tbody>\n",
              "</table>\n",
              "</div>"
            ],
            "text/plain": [
              "      0    1\n",
              "0  1110  308\n",
              "1   633  408"
            ]
          },
          "metadata": {
            "tags": []
          },
          "execution_count": 19
        }
      ]
    },
    {
      "cell_type": "markdown",
      "metadata": {
        "id": "DcAqk151VxCe"
      },
      "source": [
        "## Text Pre-processing and Wrangling"
      ]
    },
    {
      "cell_type": "code",
      "metadata": {
        "id": "euoT4RVKVxCe",
        "outputId": "02bc6844-b62b-4617-cf1c-76e7bc2064ca",
        "colab": {
          "base_uri": "https://localhost:8080/",
          "height": 34
        }
      },
      "source": [
        "nltk.stem.snowball"
      ],
      "execution_count": 20,
      "outputs": [
        {
          "output_type": "execute_result",
          "data": {
            "text/plain": [
              "<module 'nltk.stem.snowball' from '/usr/local/lib/python3.6/dist-packages/nltk/stem/snowball.py'>"
            ]
          },
          "metadata": {
            "tags": []
          },
          "execution_count": 20
        }
      ]
    },
    {
      "cell_type": "code",
      "metadata": {
        "id": "V3ItEwCeVxCi"
      },
      "source": [
        "# ps = nltk.porter.PorterStemmer()\n",
        "from nltk.stem.snowball import SnowballStemmer\n",
        "snowball_stemmer = SnowballStemmer('spanish')\n",
        "\n",
        "# from nltk.stem import PorterStemmer\n",
        "# porter = PorterStemmer()\n",
        "\n",
        "def simple_text_preprocessor(document): \n",
        "    # lower case\n",
        "    document = str(document).lower()\n",
        "    \n",
        "    # simple porter stemming\n",
        "    document = ' '.join([snowball_stemmer.stem(word) for word in document.split()])\n",
        "    \n",
        "#     # stopwords removal\n",
        "    document = ' '.join([word for word in document.split() if word not in stop_words])\n",
        "    \n",
        "    return document\n",
        "\n",
        "stp = np.vectorize(simple_text_preprocessor)"
      ],
      "execution_count": 21,
      "outputs": []
    },
    {
      "cell_type": "code",
      "metadata": {
        "id": "q1Lx81NkVxCk",
        "outputId": "a7953820-157b-4d5c-964d-4df1f6b8ff5e",
        "colab": {
          "base_uri": "https://localhost:8080/",
          "height": 202
        }
      },
      "source": [
        "X_train['Clean text'] = stp(X_train['text'].values)\n",
        "X_test['Clean text'] = stp(X_test['text'].values)\n",
        "\n",
        "X_train.head()"
      ],
      "execution_count": 22,
      "outputs": [
        {
          "output_type": "execute_result",
          "data": {
            "text/html": [
              "<div>\n",
              "<style scoped>\n",
              "    .dataframe tbody tr th:only-of-type {\n",
              "        vertical-align: middle;\n",
              "    }\n",
              "\n",
              "    .dataframe tbody tr th {\n",
              "        vertical-align: top;\n",
              "    }\n",
              "\n",
              "    .dataframe thead th {\n",
              "        text-align: right;\n",
              "    }\n",
              "</style>\n",
              "<table border=\"1\" class=\"dataframe\">\n",
              "  <thead>\n",
              "    <tr style=\"text-align: right;\">\n",
              "      <th></th>\n",
              "      <th>text</th>\n",
              "      <th>char_count</th>\n",
              "      <th>word_count</th>\n",
              "      <th>word_density</th>\n",
              "      <th>punctuation_count</th>\n",
              "      <th>title_word_count</th>\n",
              "      <th>upper_case_word_count</th>\n",
              "      <th>Clean text</th>\n",
              "    </tr>\n",
              "  </thead>\n",
              "  <tbody>\n",
              "    <tr>\n",
              "      <th>6512</th>\n",
              "      <td>AEstaHora otro punto de la ciudad es parte de ...</td>\n",
              "      <td>180</td>\n",
              "      <td>30</td>\n",
              "      <td>5.806452</td>\n",
              "      <td>2</td>\n",
              "      <td>1</td>\n",
              "      <td>1</td>\n",
              "      <td>aestahor punt ciud part tamizaje. busqued acti...</td>\n",
              "    </tr>\n",
              "    <tr>\n",
              "      <th>7717</th>\n",
              "      <td>COVID-19 | Colombia | 24abr2020\\nVersión .pdf:...</td>\n",
              "      <td>77</td>\n",
              "      <td>10</td>\n",
              "      <td>7.000000</td>\n",
              "      <td>6</td>\n",
              "      <td>4</td>\n",
              "      <td>2</td>\n",
              "      <td>covid-19 | colombi | 24abr2020 version .pdf: c...</td>\n",
              "    </tr>\n",
              "    <tr>\n",
              "      <th>1994</th>\n",
              "      <td>Cifras sobre la ampliación de los servicios de...</td>\n",
              "      <td>159</td>\n",
              "      <td>23</td>\n",
              "      <td>6.625000</td>\n",
              "      <td>1</td>\n",
              "      <td>2</td>\n",
              "      <td>1</td>\n",
              "      <td>cifr sobr ampliacion servici baja, median alta...</td>\n",
              "    </tr>\n",
              "    <tr>\n",
              "      <th>5177</th>\n",
              "      <td>En la reunión virtual 👩🏻‍💻que llevamos a esta ...</td>\n",
              "      <td>189</td>\n",
              "      <td>28</td>\n",
              "      <td>6.517241</td>\n",
              "      <td>1</td>\n",
              "      <td>2</td>\n",
              "      <td>3</td>\n",
              "      <td>reunion virtual 👩🏻‍💻qu llev hor ips revis capa...</td>\n",
              "    </tr>\n",
              "    <tr>\n",
              "      <th>7791</th>\n",
              "      <td>¿Cuál es el mejor material para un tapabocas c...</td>\n",
              "      <td>53</td>\n",
              "      <td>9</td>\n",
              "      <td>5.300000</td>\n",
              "      <td>1</td>\n",
              "      <td>1</td>\n",
              "      <td>0</td>\n",
              "      <td>¿cual mejor material par tapaboc casero?</td>\n",
              "    </tr>\n",
              "  </tbody>\n",
              "</table>\n",
              "</div>"
            ],
            "text/plain": [
              "                                                   text  ...                                         Clean text\n",
              "6512  AEstaHora otro punto de la ciudad es parte de ...  ...  aestahor punt ciud part tamizaje. busqued acti...\n",
              "7717  COVID-19 | Colombia | 24abr2020\\nVersión .pdf:...  ...  covid-19 | colombi | 24abr2020 version .pdf: c...\n",
              "1994  Cifras sobre la ampliación de los servicios de...  ...  cifr sobr ampliacion servici baja, median alta...\n",
              "5177  En la reunión virtual 👩🏻‍💻que llevamos a esta ...  ...  reunion virtual 👩🏻‍💻qu llev hor ips revis capa...\n",
              "7791  ¿Cuál es el mejor material para un tapabocas c...  ...           ¿cual mejor material par tapaboc casero?\n",
              "\n",
              "[5 rows x 8 columns]"
            ]
          },
          "metadata": {
            "tags": []
          },
          "execution_count": 22
        }
      ]
    },
    {
      "cell_type": "code",
      "metadata": {
        "id": "3mJ3Ff8PVxCm"
      },
      "source": [
        ""
      ],
      "execution_count": 22,
      "outputs": []
    },
    {
      "cell_type": "code",
      "metadata": {
        "id": "PQgUkDzeVxCo",
        "outputId": "93c78561-b53a-42cb-c36a-296b28137a5e",
        "colab": {
          "base_uri": "https://localhost:8080/",
          "height": 202
        }
      },
      "source": [
        "X_train_metadata = X_train.drop(['text', 'Clean text'], axis=1).reset_index(drop=True)\n",
        "X_test_metadata = X_test.drop(['text', 'Clean text'], axis=1).reset_index(drop=True)\n",
        "\n",
        "X_train_metadata.head()"
      ],
      "execution_count": 23,
      "outputs": [
        {
          "output_type": "execute_result",
          "data": {
            "text/html": [
              "<div>\n",
              "<style scoped>\n",
              "    .dataframe tbody tr th:only-of-type {\n",
              "        vertical-align: middle;\n",
              "    }\n",
              "\n",
              "    .dataframe tbody tr th {\n",
              "        vertical-align: top;\n",
              "    }\n",
              "\n",
              "    .dataframe thead th {\n",
              "        text-align: right;\n",
              "    }\n",
              "</style>\n",
              "<table border=\"1\" class=\"dataframe\">\n",
              "  <thead>\n",
              "    <tr style=\"text-align: right;\">\n",
              "      <th></th>\n",
              "      <th>char_count</th>\n",
              "      <th>word_count</th>\n",
              "      <th>word_density</th>\n",
              "      <th>punctuation_count</th>\n",
              "      <th>title_word_count</th>\n",
              "      <th>upper_case_word_count</th>\n",
              "    </tr>\n",
              "  </thead>\n",
              "  <tbody>\n",
              "    <tr>\n",
              "      <th>0</th>\n",
              "      <td>180</td>\n",
              "      <td>30</td>\n",
              "      <td>5.806452</td>\n",
              "      <td>2</td>\n",
              "      <td>1</td>\n",
              "      <td>1</td>\n",
              "    </tr>\n",
              "    <tr>\n",
              "      <th>1</th>\n",
              "      <td>77</td>\n",
              "      <td>10</td>\n",
              "      <td>7.000000</td>\n",
              "      <td>6</td>\n",
              "      <td>4</td>\n",
              "      <td>2</td>\n",
              "    </tr>\n",
              "    <tr>\n",
              "      <th>2</th>\n",
              "      <td>159</td>\n",
              "      <td>23</td>\n",
              "      <td>6.625000</td>\n",
              "      <td>1</td>\n",
              "      <td>2</td>\n",
              "      <td>1</td>\n",
              "    </tr>\n",
              "    <tr>\n",
              "      <th>3</th>\n",
              "      <td>189</td>\n",
              "      <td>28</td>\n",
              "      <td>6.517241</td>\n",
              "      <td>1</td>\n",
              "      <td>2</td>\n",
              "      <td>3</td>\n",
              "    </tr>\n",
              "    <tr>\n",
              "      <th>4</th>\n",
              "      <td>53</td>\n",
              "      <td>9</td>\n",
              "      <td>5.300000</td>\n",
              "      <td>1</td>\n",
              "      <td>1</td>\n",
              "      <td>0</td>\n",
              "    </tr>\n",
              "  </tbody>\n",
              "</table>\n",
              "</div>"
            ],
            "text/plain": [
              "   char_count  word_count  ...  title_word_count  upper_case_word_count\n",
              "0         180          30  ...                 1                      1\n",
              "1          77          10  ...                 4                      2\n",
              "2         159          23  ...                 2                      1\n",
              "3         189          28  ...                 2                      3\n",
              "4          53           9  ...                 1                      0\n",
              "\n",
              "[5 rows x 6 columns]"
            ]
          },
          "metadata": {
            "tags": []
          },
          "execution_count": 23
        }
      ]
    },
    {
      "cell_type": "markdown",
      "metadata": {
        "id": "ixxljYjGVxCr"
      },
      "source": [
        "## Adding Bag of Words based Features - 1-grams"
      ]
    },
    {
      "cell_type": "code",
      "metadata": {
        "id": "1NHC4_g4VxCr",
        "outputId": "6e4d4733-feb4-487e-a9e4-e4a903f9db0c",
        "colab": {
          "base_uri": "https://localhost:8080/",
          "height": 252
        }
      },
      "source": [
        "\n",
        "cv = CountVectorizer(min_df=0.0, max_df=1.0, ngram_range=(1, 1))\n",
        "X_traincv = cv.fit_transform(X_train['Clean text']).toarray()\n",
        "X_traincv = pd.DataFrame(X_traincv, columns=cv.get_feature_names())\n",
        "\n",
        "X_testcv = cv.transform(X_test['Clean text']).toarray()\n",
        "X_testcv = pd.DataFrame(X_testcv, columns=cv.get_feature_names())\n",
        "X_traincv.head()"
      ],
      "execution_count": 24,
      "outputs": [
        {
          "output_type": "execute_result",
          "data": {
            "text/html": [
              "<div>\n",
              "<style scoped>\n",
              "    .dataframe tbody tr th:only-of-type {\n",
              "        vertical-align: middle;\n",
              "    }\n",
              "\n",
              "    .dataframe tbody tr th {\n",
              "        vertical-align: top;\n",
              "    }\n",
              "\n",
              "    .dataframe thead th {\n",
              "        text-align: right;\n",
              "    }\n",
              "</style>\n",
              "<table border=\"1\" class=\"dataframe\">\n",
              "  <thead>\n",
              "    <tr style=\"text-align: right;\">\n",
              "      <th></th>\n",
              "      <th>00</th>\n",
              "      <th>000</th>\n",
              "      <th>0000</th>\n",
              "      <th>0001</th>\n",
              "      <th>000m</th>\n",
              "      <th>002</th>\n",
              "      <th>003</th>\n",
              "      <th>0037</th>\n",
              "      <th>00am</th>\n",
              "      <th>00m</th>\n",
              "      <th>00pm</th>\n",
              "      <th>01</th>\n",
              "      <th>012</th>\n",
              "      <th>015</th>\n",
              "      <th>017</th>\n",
              "      <th>018000</th>\n",
              "      <th>01abr</th>\n",
              "      <th>02</th>\n",
              "      <th>020</th>\n",
              "      <th>021</th>\n",
              "      <th>0222</th>\n",
              "      <th>026</th>\n",
              "      <th>02o___</th>\n",
              "      <th>03</th>\n",
              "      <th>0329</th>\n",
              "      <th>034</th>\n",
              "      <th>04</th>\n",
              "      <th>041</th>\n",
              "      <th>0420</th>\n",
              "      <th>042020</th>\n",
              "      <th>04abr</th>\n",
              "      <th>05</th>\n",
              "      <th>051</th>\n",
              "      <th>05abril</th>\n",
              "      <th>06</th>\n",
              "      <th>065</th>\n",
              "      <th>06abr</th>\n",
              "      <th>07</th>\n",
              "      <th>07abr</th>\n",
              "      <th>08</th>\n",
              "      <th>...</th>\n",
              "      <th>𝕕𝕒𝕣</th>\n",
              "      <th>𝕖𝕝𝕖𝕔𝕔𝕚𝕠𝕟𝕖𝕤</th>\n",
              "      <th>𝕖𝕞𝕡𝕚𝕖𝕔𝕖𝕟</th>\n",
              "      <th>𝕝𝕠𝕤</th>\n",
              "      <th>𝕞𝕖𝕣𝕔𝕒𝕕𝕠𝕤</th>\n",
              "      <th>𝕟𝕠</th>\n",
              "      <th>𝕡𝕒𝕣𝕒</th>\n",
              "      <th>𝕡𝕝𝕒𝕥𝕒</th>\n",
              "      <th>𝕡𝕠𝕝𝕚𝕥𝕚𝕔𝕠𝕤</th>\n",
              "      <th>𝕢𝕦𝕖</th>\n",
              "      <th>𝗟𝗮𝗢𝘁𝗿𝗮𝗣𝗮𝗻𝗱𝗲𝗺𝗶𝗮</th>\n",
              "      <th>𝗣𝗮𝗻𝗲𝗹𝗶𝘀𝘁𝗮</th>\n",
              "      <th>𝗪𝗲𝗯𝗶𝗻𝗮𝗿𝗥𝗲𝗰𝗼𝗻</th>\n",
              "      <th>𝘾𝙤𝙫𝙞𝙙</th>\n",
              "      <th>𝙔𝙖</th>\n",
              "      <th>𝙡𝙖𝙫𝙖𝙨𝙩𝙚</th>\n",
              "      <th>𝙢𝙖𝙣𝙤𝙨</th>\n",
              "      <th>𝙩𝙪𝙨</th>\n",
              "      <th>𝙰𝚕</th>\n",
              "      <th>𝙰𝚚𝚞𝚒</th>\n",
              "      <th>𝙲𝚘</th>\n",
              "      <th>𝙲𝚘𝚟𝚒𝚍19</th>\n",
              "      <th>𝙶𝚕𝚘𝚋𝚊𝚕</th>\n",
              "      <th>𝙻𝚘𝚐𝚒𝚜𝚝𝚒𝚌</th>\n",
              "      <th>𝚊𝚏𝚎𝚌𝚝𝚊𝚍𝚘𝚜</th>\n",
              "      <th>𝚊𝚕</th>\n",
              "      <th>𝚊𝚙𝚕𝚒𝚌𝚊𝚛</th>\n",
              "      <th>𝚌𝚘𝚖𝚙𝚊𝚛𝚝𝚘</th>\n",
              "      <th>𝚌𝚞𝚋𝚛𝚎</th>\n",
              "      <th>𝚍𝚎</th>\n",
              "      <th>𝚎𝚕</th>\n",
              "      <th>𝚎𝚖𝚎𝚛𝚐𝚎𝚗𝚌𝚒𝚊</th>\n",
              "      <th>𝚎𝚡𝚝𝚛𝚊𝚗𝚓𝚎𝚛𝚘𝚜</th>\n",
              "      <th>𝚕𝚎𝚜</th>\n",
              "      <th>𝚙𝚊𝚛𝚊</th>\n",
              "      <th>𝚙𝚊𝚛𝚎𝚌𝚎𝚛</th>\n",
              "      <th>𝚙𝚘𝚛</th>\n",
              "      <th>𝚜𝚞𝚋𝚜𝚒𝚍𝚒𝚘</th>\n",
              "      <th>𝚝𝚊𝚖𝚋𝚒𝚎</th>\n",
              "      <th>𝚟𝚎𝚛𝚗𝚘𝚜</th>\n",
              "    </tr>\n",
              "  </thead>\n",
              "  <tbody>\n",
              "    <tr>\n",
              "      <th>0</th>\n",
              "      <td>0</td>\n",
              "      <td>0</td>\n",
              "      <td>0</td>\n",
              "      <td>0</td>\n",
              "      <td>0</td>\n",
              "      <td>0</td>\n",
              "      <td>0</td>\n",
              "      <td>0</td>\n",
              "      <td>0</td>\n",
              "      <td>0</td>\n",
              "      <td>0</td>\n",
              "      <td>0</td>\n",
              "      <td>0</td>\n",
              "      <td>0</td>\n",
              "      <td>0</td>\n",
              "      <td>0</td>\n",
              "      <td>0</td>\n",
              "      <td>0</td>\n",
              "      <td>0</td>\n",
              "      <td>0</td>\n",
              "      <td>0</td>\n",
              "      <td>0</td>\n",
              "      <td>0</td>\n",
              "      <td>0</td>\n",
              "      <td>0</td>\n",
              "      <td>0</td>\n",
              "      <td>0</td>\n",
              "      <td>0</td>\n",
              "      <td>0</td>\n",
              "      <td>0</td>\n",
              "      <td>0</td>\n",
              "      <td>0</td>\n",
              "      <td>0</td>\n",
              "      <td>0</td>\n",
              "      <td>0</td>\n",
              "      <td>0</td>\n",
              "      <td>0</td>\n",
              "      <td>0</td>\n",
              "      <td>0</td>\n",
              "      <td>0</td>\n",
              "      <td>...</td>\n",
              "      <td>0</td>\n",
              "      <td>0</td>\n",
              "      <td>0</td>\n",
              "      <td>0</td>\n",
              "      <td>0</td>\n",
              "      <td>0</td>\n",
              "      <td>0</td>\n",
              "      <td>0</td>\n",
              "      <td>0</td>\n",
              "      <td>0</td>\n",
              "      <td>0</td>\n",
              "      <td>0</td>\n",
              "      <td>0</td>\n",
              "      <td>0</td>\n",
              "      <td>0</td>\n",
              "      <td>0</td>\n",
              "      <td>0</td>\n",
              "      <td>0</td>\n",
              "      <td>0</td>\n",
              "      <td>0</td>\n",
              "      <td>0</td>\n",
              "      <td>0</td>\n",
              "      <td>0</td>\n",
              "      <td>0</td>\n",
              "      <td>0</td>\n",
              "      <td>0</td>\n",
              "      <td>0</td>\n",
              "      <td>0</td>\n",
              "      <td>0</td>\n",
              "      <td>0</td>\n",
              "      <td>0</td>\n",
              "      <td>0</td>\n",
              "      <td>0</td>\n",
              "      <td>0</td>\n",
              "      <td>0</td>\n",
              "      <td>0</td>\n",
              "      <td>0</td>\n",
              "      <td>0</td>\n",
              "      <td>0</td>\n",
              "      <td>0</td>\n",
              "    </tr>\n",
              "    <tr>\n",
              "      <th>1</th>\n",
              "      <td>0</td>\n",
              "      <td>0</td>\n",
              "      <td>0</td>\n",
              "      <td>0</td>\n",
              "      <td>0</td>\n",
              "      <td>0</td>\n",
              "      <td>0</td>\n",
              "      <td>0</td>\n",
              "      <td>0</td>\n",
              "      <td>0</td>\n",
              "      <td>0</td>\n",
              "      <td>0</td>\n",
              "      <td>0</td>\n",
              "      <td>0</td>\n",
              "      <td>0</td>\n",
              "      <td>0</td>\n",
              "      <td>0</td>\n",
              "      <td>0</td>\n",
              "      <td>0</td>\n",
              "      <td>0</td>\n",
              "      <td>0</td>\n",
              "      <td>0</td>\n",
              "      <td>0</td>\n",
              "      <td>0</td>\n",
              "      <td>0</td>\n",
              "      <td>0</td>\n",
              "      <td>0</td>\n",
              "      <td>0</td>\n",
              "      <td>0</td>\n",
              "      <td>0</td>\n",
              "      <td>0</td>\n",
              "      <td>0</td>\n",
              "      <td>0</td>\n",
              "      <td>0</td>\n",
              "      <td>0</td>\n",
              "      <td>0</td>\n",
              "      <td>0</td>\n",
              "      <td>0</td>\n",
              "      <td>0</td>\n",
              "      <td>0</td>\n",
              "      <td>...</td>\n",
              "      <td>0</td>\n",
              "      <td>0</td>\n",
              "      <td>0</td>\n",
              "      <td>0</td>\n",
              "      <td>0</td>\n",
              "      <td>0</td>\n",
              "      <td>0</td>\n",
              "      <td>0</td>\n",
              "      <td>0</td>\n",
              "      <td>0</td>\n",
              "      <td>0</td>\n",
              "      <td>0</td>\n",
              "      <td>0</td>\n",
              "      <td>0</td>\n",
              "      <td>0</td>\n",
              "      <td>0</td>\n",
              "      <td>0</td>\n",
              "      <td>0</td>\n",
              "      <td>0</td>\n",
              "      <td>0</td>\n",
              "      <td>0</td>\n",
              "      <td>0</td>\n",
              "      <td>0</td>\n",
              "      <td>0</td>\n",
              "      <td>0</td>\n",
              "      <td>0</td>\n",
              "      <td>0</td>\n",
              "      <td>0</td>\n",
              "      <td>0</td>\n",
              "      <td>0</td>\n",
              "      <td>0</td>\n",
              "      <td>0</td>\n",
              "      <td>0</td>\n",
              "      <td>0</td>\n",
              "      <td>0</td>\n",
              "      <td>0</td>\n",
              "      <td>0</td>\n",
              "      <td>0</td>\n",
              "      <td>0</td>\n",
              "      <td>0</td>\n",
              "    </tr>\n",
              "    <tr>\n",
              "      <th>2</th>\n",
              "      <td>0</td>\n",
              "      <td>0</td>\n",
              "      <td>0</td>\n",
              "      <td>0</td>\n",
              "      <td>0</td>\n",
              "      <td>0</td>\n",
              "      <td>0</td>\n",
              "      <td>0</td>\n",
              "      <td>0</td>\n",
              "      <td>0</td>\n",
              "      <td>0</td>\n",
              "      <td>0</td>\n",
              "      <td>0</td>\n",
              "      <td>0</td>\n",
              "      <td>0</td>\n",
              "      <td>0</td>\n",
              "      <td>0</td>\n",
              "      <td>0</td>\n",
              "      <td>0</td>\n",
              "      <td>0</td>\n",
              "      <td>0</td>\n",
              "      <td>0</td>\n",
              "      <td>0</td>\n",
              "      <td>0</td>\n",
              "      <td>0</td>\n",
              "      <td>0</td>\n",
              "      <td>0</td>\n",
              "      <td>0</td>\n",
              "      <td>0</td>\n",
              "      <td>0</td>\n",
              "      <td>0</td>\n",
              "      <td>0</td>\n",
              "      <td>0</td>\n",
              "      <td>0</td>\n",
              "      <td>0</td>\n",
              "      <td>0</td>\n",
              "      <td>0</td>\n",
              "      <td>0</td>\n",
              "      <td>0</td>\n",
              "      <td>0</td>\n",
              "      <td>...</td>\n",
              "      <td>0</td>\n",
              "      <td>0</td>\n",
              "      <td>0</td>\n",
              "      <td>0</td>\n",
              "      <td>0</td>\n",
              "      <td>0</td>\n",
              "      <td>0</td>\n",
              "      <td>0</td>\n",
              "      <td>0</td>\n",
              "      <td>0</td>\n",
              "      <td>0</td>\n",
              "      <td>0</td>\n",
              "      <td>0</td>\n",
              "      <td>0</td>\n",
              "      <td>0</td>\n",
              "      <td>0</td>\n",
              "      <td>0</td>\n",
              "      <td>0</td>\n",
              "      <td>0</td>\n",
              "      <td>0</td>\n",
              "      <td>0</td>\n",
              "      <td>0</td>\n",
              "      <td>0</td>\n",
              "      <td>0</td>\n",
              "      <td>0</td>\n",
              "      <td>0</td>\n",
              "      <td>0</td>\n",
              "      <td>0</td>\n",
              "      <td>0</td>\n",
              "      <td>0</td>\n",
              "      <td>0</td>\n",
              "      <td>0</td>\n",
              "      <td>0</td>\n",
              "      <td>0</td>\n",
              "      <td>0</td>\n",
              "      <td>0</td>\n",
              "      <td>0</td>\n",
              "      <td>0</td>\n",
              "      <td>0</td>\n",
              "      <td>0</td>\n",
              "    </tr>\n",
              "    <tr>\n",
              "      <th>3</th>\n",
              "      <td>0</td>\n",
              "      <td>0</td>\n",
              "      <td>0</td>\n",
              "      <td>0</td>\n",
              "      <td>0</td>\n",
              "      <td>0</td>\n",
              "      <td>0</td>\n",
              "      <td>0</td>\n",
              "      <td>0</td>\n",
              "      <td>0</td>\n",
              "      <td>0</td>\n",
              "      <td>0</td>\n",
              "      <td>0</td>\n",
              "      <td>0</td>\n",
              "      <td>0</td>\n",
              "      <td>0</td>\n",
              "      <td>0</td>\n",
              "      <td>0</td>\n",
              "      <td>0</td>\n",
              "      <td>0</td>\n",
              "      <td>0</td>\n",
              "      <td>0</td>\n",
              "      <td>0</td>\n",
              "      <td>0</td>\n",
              "      <td>0</td>\n",
              "      <td>0</td>\n",
              "      <td>0</td>\n",
              "      <td>0</td>\n",
              "      <td>0</td>\n",
              "      <td>0</td>\n",
              "      <td>0</td>\n",
              "      <td>0</td>\n",
              "      <td>0</td>\n",
              "      <td>0</td>\n",
              "      <td>0</td>\n",
              "      <td>0</td>\n",
              "      <td>0</td>\n",
              "      <td>0</td>\n",
              "      <td>0</td>\n",
              "      <td>0</td>\n",
              "      <td>...</td>\n",
              "      <td>0</td>\n",
              "      <td>0</td>\n",
              "      <td>0</td>\n",
              "      <td>0</td>\n",
              "      <td>0</td>\n",
              "      <td>0</td>\n",
              "      <td>0</td>\n",
              "      <td>0</td>\n",
              "      <td>0</td>\n",
              "      <td>0</td>\n",
              "      <td>0</td>\n",
              "      <td>0</td>\n",
              "      <td>0</td>\n",
              "      <td>0</td>\n",
              "      <td>0</td>\n",
              "      <td>0</td>\n",
              "      <td>0</td>\n",
              "      <td>0</td>\n",
              "      <td>0</td>\n",
              "      <td>0</td>\n",
              "      <td>0</td>\n",
              "      <td>0</td>\n",
              "      <td>0</td>\n",
              "      <td>0</td>\n",
              "      <td>0</td>\n",
              "      <td>0</td>\n",
              "      <td>0</td>\n",
              "      <td>0</td>\n",
              "      <td>0</td>\n",
              "      <td>0</td>\n",
              "      <td>0</td>\n",
              "      <td>0</td>\n",
              "      <td>0</td>\n",
              "      <td>0</td>\n",
              "      <td>0</td>\n",
              "      <td>0</td>\n",
              "      <td>0</td>\n",
              "      <td>0</td>\n",
              "      <td>0</td>\n",
              "      <td>0</td>\n",
              "    </tr>\n",
              "    <tr>\n",
              "      <th>4</th>\n",
              "      <td>0</td>\n",
              "      <td>0</td>\n",
              "      <td>0</td>\n",
              "      <td>0</td>\n",
              "      <td>0</td>\n",
              "      <td>0</td>\n",
              "      <td>0</td>\n",
              "      <td>0</td>\n",
              "      <td>0</td>\n",
              "      <td>0</td>\n",
              "      <td>0</td>\n",
              "      <td>0</td>\n",
              "      <td>0</td>\n",
              "      <td>0</td>\n",
              "      <td>0</td>\n",
              "      <td>0</td>\n",
              "      <td>0</td>\n",
              "      <td>0</td>\n",
              "      <td>0</td>\n",
              "      <td>0</td>\n",
              "      <td>0</td>\n",
              "      <td>0</td>\n",
              "      <td>0</td>\n",
              "      <td>0</td>\n",
              "      <td>0</td>\n",
              "      <td>0</td>\n",
              "      <td>0</td>\n",
              "      <td>0</td>\n",
              "      <td>0</td>\n",
              "      <td>0</td>\n",
              "      <td>0</td>\n",
              "      <td>0</td>\n",
              "      <td>0</td>\n",
              "      <td>0</td>\n",
              "      <td>0</td>\n",
              "      <td>0</td>\n",
              "      <td>0</td>\n",
              "      <td>0</td>\n",
              "      <td>0</td>\n",
              "      <td>0</td>\n",
              "      <td>...</td>\n",
              "      <td>0</td>\n",
              "      <td>0</td>\n",
              "      <td>0</td>\n",
              "      <td>0</td>\n",
              "      <td>0</td>\n",
              "      <td>0</td>\n",
              "      <td>0</td>\n",
              "      <td>0</td>\n",
              "      <td>0</td>\n",
              "      <td>0</td>\n",
              "      <td>0</td>\n",
              "      <td>0</td>\n",
              "      <td>0</td>\n",
              "      <td>0</td>\n",
              "      <td>0</td>\n",
              "      <td>0</td>\n",
              "      <td>0</td>\n",
              "      <td>0</td>\n",
              "      <td>0</td>\n",
              "      <td>0</td>\n",
              "      <td>0</td>\n",
              "      <td>0</td>\n",
              "      <td>0</td>\n",
              "      <td>0</td>\n",
              "      <td>0</td>\n",
              "      <td>0</td>\n",
              "      <td>0</td>\n",
              "      <td>0</td>\n",
              "      <td>0</td>\n",
              "      <td>0</td>\n",
              "      <td>0</td>\n",
              "      <td>0</td>\n",
              "      <td>0</td>\n",
              "      <td>0</td>\n",
              "      <td>0</td>\n",
              "      <td>0</td>\n",
              "      <td>0</td>\n",
              "      <td>0</td>\n",
              "      <td>0</td>\n",
              "      <td>0</td>\n",
              "    </tr>\n",
              "  </tbody>\n",
              "</table>\n",
              "<p>5 rows × 19590 columns</p>\n",
              "</div>"
            ],
            "text/plain": [
              "   00  000  0000  0001  000m  002  ...  𝚙𝚊𝚛𝚊  𝚙𝚊𝚛𝚎𝚌𝚎𝚛  𝚙𝚘𝚛  𝚜𝚞𝚋𝚜𝚒𝚍𝚒𝚘  𝚝𝚊𝚖𝚋𝚒𝚎  𝚟𝚎𝚛𝚗𝚘𝚜\n",
              "0   0    0     0     0     0    0  ...     0        0    0         0       0       0\n",
              "1   0    0     0     0     0    0  ...     0        0    0         0       0       0\n",
              "2   0    0     0     0     0    0  ...     0        0    0         0       0       0\n",
              "3   0    0     0     0     0    0  ...     0        0    0         0       0       0\n",
              "4   0    0     0     0     0    0  ...     0        0    0         0       0       0\n",
              "\n",
              "[5 rows x 19590 columns]"
            ]
          },
          "metadata": {
            "tags": []
          },
          "execution_count": 24
        }
      ]
    },
    {
      "cell_type": "code",
      "metadata": {
        "id": "2di7bsbdVxCt",
        "outputId": "7136e958-c053-4c99-ae09-bd8b4a846b3f",
        "colab": {
          "base_uri": "https://localhost:8080/",
          "height": 252
        }
      },
      "source": [
        "X_train_comb = pd.concat([X_train_metadata, X_traincv], axis=1)\n",
        "X_test_comb = pd.concat([X_test_metadata, X_testcv], axis=1)\n",
        "\n",
        "X_train_comb.head()"
      ],
      "execution_count": 25,
      "outputs": [
        {
          "output_type": "execute_result",
          "data": {
            "text/html": [
              "<div>\n",
              "<style scoped>\n",
              "    .dataframe tbody tr th:only-of-type {\n",
              "        vertical-align: middle;\n",
              "    }\n",
              "\n",
              "    .dataframe tbody tr th {\n",
              "        vertical-align: top;\n",
              "    }\n",
              "\n",
              "    .dataframe thead th {\n",
              "        text-align: right;\n",
              "    }\n",
              "</style>\n",
              "<table border=\"1\" class=\"dataframe\">\n",
              "  <thead>\n",
              "    <tr style=\"text-align: right;\">\n",
              "      <th></th>\n",
              "      <th>char_count</th>\n",
              "      <th>word_count</th>\n",
              "      <th>word_density</th>\n",
              "      <th>punctuation_count</th>\n",
              "      <th>title_word_count</th>\n",
              "      <th>upper_case_word_count</th>\n",
              "      <th>00</th>\n",
              "      <th>000</th>\n",
              "      <th>0000</th>\n",
              "      <th>0001</th>\n",
              "      <th>000m</th>\n",
              "      <th>002</th>\n",
              "      <th>003</th>\n",
              "      <th>0037</th>\n",
              "      <th>00am</th>\n",
              "      <th>00m</th>\n",
              "      <th>00pm</th>\n",
              "      <th>01</th>\n",
              "      <th>012</th>\n",
              "      <th>015</th>\n",
              "      <th>017</th>\n",
              "      <th>018000</th>\n",
              "      <th>01abr</th>\n",
              "      <th>02</th>\n",
              "      <th>020</th>\n",
              "      <th>021</th>\n",
              "      <th>0222</th>\n",
              "      <th>026</th>\n",
              "      <th>02o___</th>\n",
              "      <th>03</th>\n",
              "      <th>0329</th>\n",
              "      <th>034</th>\n",
              "      <th>04</th>\n",
              "      <th>041</th>\n",
              "      <th>0420</th>\n",
              "      <th>042020</th>\n",
              "      <th>04abr</th>\n",
              "      <th>05</th>\n",
              "      <th>051</th>\n",
              "      <th>05abril</th>\n",
              "      <th>...</th>\n",
              "      <th>𝕕𝕒𝕣</th>\n",
              "      <th>𝕖𝕝𝕖𝕔𝕔𝕚𝕠𝕟𝕖𝕤</th>\n",
              "      <th>𝕖𝕞𝕡𝕚𝕖𝕔𝕖𝕟</th>\n",
              "      <th>𝕝𝕠𝕤</th>\n",
              "      <th>𝕞𝕖𝕣𝕔𝕒𝕕𝕠𝕤</th>\n",
              "      <th>𝕟𝕠</th>\n",
              "      <th>𝕡𝕒𝕣𝕒</th>\n",
              "      <th>𝕡𝕝𝕒𝕥𝕒</th>\n",
              "      <th>𝕡𝕠𝕝𝕚𝕥𝕚𝕔𝕠𝕤</th>\n",
              "      <th>𝕢𝕦𝕖</th>\n",
              "      <th>𝗟𝗮𝗢𝘁𝗿𝗮𝗣𝗮𝗻𝗱𝗲𝗺𝗶𝗮</th>\n",
              "      <th>𝗣𝗮𝗻𝗲𝗹𝗶𝘀𝘁𝗮</th>\n",
              "      <th>𝗪𝗲𝗯𝗶𝗻𝗮𝗿𝗥𝗲𝗰𝗼𝗻</th>\n",
              "      <th>𝘾𝙤𝙫𝙞𝙙</th>\n",
              "      <th>𝙔𝙖</th>\n",
              "      <th>𝙡𝙖𝙫𝙖𝙨𝙩𝙚</th>\n",
              "      <th>𝙢𝙖𝙣𝙤𝙨</th>\n",
              "      <th>𝙩𝙪𝙨</th>\n",
              "      <th>𝙰𝚕</th>\n",
              "      <th>𝙰𝚚𝚞𝚒</th>\n",
              "      <th>𝙲𝚘</th>\n",
              "      <th>𝙲𝚘𝚟𝚒𝚍19</th>\n",
              "      <th>𝙶𝚕𝚘𝚋𝚊𝚕</th>\n",
              "      <th>𝙻𝚘𝚐𝚒𝚜𝚝𝚒𝚌</th>\n",
              "      <th>𝚊𝚏𝚎𝚌𝚝𝚊𝚍𝚘𝚜</th>\n",
              "      <th>𝚊𝚕</th>\n",
              "      <th>𝚊𝚙𝚕𝚒𝚌𝚊𝚛</th>\n",
              "      <th>𝚌𝚘𝚖𝚙𝚊𝚛𝚝𝚘</th>\n",
              "      <th>𝚌𝚞𝚋𝚛𝚎</th>\n",
              "      <th>𝚍𝚎</th>\n",
              "      <th>𝚎𝚕</th>\n",
              "      <th>𝚎𝚖𝚎𝚛𝚐𝚎𝚗𝚌𝚒𝚊</th>\n",
              "      <th>𝚎𝚡𝚝𝚛𝚊𝚗𝚓𝚎𝚛𝚘𝚜</th>\n",
              "      <th>𝚕𝚎𝚜</th>\n",
              "      <th>𝚙𝚊𝚛𝚊</th>\n",
              "      <th>𝚙𝚊𝚛𝚎𝚌𝚎𝚛</th>\n",
              "      <th>𝚙𝚘𝚛</th>\n",
              "      <th>𝚜𝚞𝚋𝚜𝚒𝚍𝚒𝚘</th>\n",
              "      <th>𝚝𝚊𝚖𝚋𝚒𝚎</th>\n",
              "      <th>𝚟𝚎𝚛𝚗𝚘𝚜</th>\n",
              "    </tr>\n",
              "  </thead>\n",
              "  <tbody>\n",
              "    <tr>\n",
              "      <th>0</th>\n",
              "      <td>180</td>\n",
              "      <td>30</td>\n",
              "      <td>5.806452</td>\n",
              "      <td>2</td>\n",
              "      <td>1</td>\n",
              "      <td>1</td>\n",
              "      <td>0</td>\n",
              "      <td>0</td>\n",
              "      <td>0</td>\n",
              "      <td>0</td>\n",
              "      <td>0</td>\n",
              "      <td>0</td>\n",
              "      <td>0</td>\n",
              "      <td>0</td>\n",
              "      <td>0</td>\n",
              "      <td>0</td>\n",
              "      <td>0</td>\n",
              "      <td>0</td>\n",
              "      <td>0</td>\n",
              "      <td>0</td>\n",
              "      <td>0</td>\n",
              "      <td>0</td>\n",
              "      <td>0</td>\n",
              "      <td>0</td>\n",
              "      <td>0</td>\n",
              "      <td>0</td>\n",
              "      <td>0</td>\n",
              "      <td>0</td>\n",
              "      <td>0</td>\n",
              "      <td>0</td>\n",
              "      <td>0</td>\n",
              "      <td>0</td>\n",
              "      <td>0</td>\n",
              "      <td>0</td>\n",
              "      <td>0</td>\n",
              "      <td>0</td>\n",
              "      <td>0</td>\n",
              "      <td>0</td>\n",
              "      <td>0</td>\n",
              "      <td>0</td>\n",
              "      <td>...</td>\n",
              "      <td>0</td>\n",
              "      <td>0</td>\n",
              "      <td>0</td>\n",
              "      <td>0</td>\n",
              "      <td>0</td>\n",
              "      <td>0</td>\n",
              "      <td>0</td>\n",
              "      <td>0</td>\n",
              "      <td>0</td>\n",
              "      <td>0</td>\n",
              "      <td>0</td>\n",
              "      <td>0</td>\n",
              "      <td>0</td>\n",
              "      <td>0</td>\n",
              "      <td>0</td>\n",
              "      <td>0</td>\n",
              "      <td>0</td>\n",
              "      <td>0</td>\n",
              "      <td>0</td>\n",
              "      <td>0</td>\n",
              "      <td>0</td>\n",
              "      <td>0</td>\n",
              "      <td>0</td>\n",
              "      <td>0</td>\n",
              "      <td>0</td>\n",
              "      <td>0</td>\n",
              "      <td>0</td>\n",
              "      <td>0</td>\n",
              "      <td>0</td>\n",
              "      <td>0</td>\n",
              "      <td>0</td>\n",
              "      <td>0</td>\n",
              "      <td>0</td>\n",
              "      <td>0</td>\n",
              "      <td>0</td>\n",
              "      <td>0</td>\n",
              "      <td>0</td>\n",
              "      <td>0</td>\n",
              "      <td>0</td>\n",
              "      <td>0</td>\n",
              "    </tr>\n",
              "    <tr>\n",
              "      <th>1</th>\n",
              "      <td>77</td>\n",
              "      <td>10</td>\n",
              "      <td>7.000000</td>\n",
              "      <td>6</td>\n",
              "      <td>4</td>\n",
              "      <td>2</td>\n",
              "      <td>0</td>\n",
              "      <td>0</td>\n",
              "      <td>0</td>\n",
              "      <td>0</td>\n",
              "      <td>0</td>\n",
              "      <td>0</td>\n",
              "      <td>0</td>\n",
              "      <td>0</td>\n",
              "      <td>0</td>\n",
              "      <td>0</td>\n",
              "      <td>0</td>\n",
              "      <td>0</td>\n",
              "      <td>0</td>\n",
              "      <td>0</td>\n",
              "      <td>0</td>\n",
              "      <td>0</td>\n",
              "      <td>0</td>\n",
              "      <td>0</td>\n",
              "      <td>0</td>\n",
              "      <td>0</td>\n",
              "      <td>0</td>\n",
              "      <td>0</td>\n",
              "      <td>0</td>\n",
              "      <td>0</td>\n",
              "      <td>0</td>\n",
              "      <td>0</td>\n",
              "      <td>0</td>\n",
              "      <td>0</td>\n",
              "      <td>0</td>\n",
              "      <td>0</td>\n",
              "      <td>0</td>\n",
              "      <td>0</td>\n",
              "      <td>0</td>\n",
              "      <td>0</td>\n",
              "      <td>...</td>\n",
              "      <td>0</td>\n",
              "      <td>0</td>\n",
              "      <td>0</td>\n",
              "      <td>0</td>\n",
              "      <td>0</td>\n",
              "      <td>0</td>\n",
              "      <td>0</td>\n",
              "      <td>0</td>\n",
              "      <td>0</td>\n",
              "      <td>0</td>\n",
              "      <td>0</td>\n",
              "      <td>0</td>\n",
              "      <td>0</td>\n",
              "      <td>0</td>\n",
              "      <td>0</td>\n",
              "      <td>0</td>\n",
              "      <td>0</td>\n",
              "      <td>0</td>\n",
              "      <td>0</td>\n",
              "      <td>0</td>\n",
              "      <td>0</td>\n",
              "      <td>0</td>\n",
              "      <td>0</td>\n",
              "      <td>0</td>\n",
              "      <td>0</td>\n",
              "      <td>0</td>\n",
              "      <td>0</td>\n",
              "      <td>0</td>\n",
              "      <td>0</td>\n",
              "      <td>0</td>\n",
              "      <td>0</td>\n",
              "      <td>0</td>\n",
              "      <td>0</td>\n",
              "      <td>0</td>\n",
              "      <td>0</td>\n",
              "      <td>0</td>\n",
              "      <td>0</td>\n",
              "      <td>0</td>\n",
              "      <td>0</td>\n",
              "      <td>0</td>\n",
              "    </tr>\n",
              "    <tr>\n",
              "      <th>2</th>\n",
              "      <td>159</td>\n",
              "      <td>23</td>\n",
              "      <td>6.625000</td>\n",
              "      <td>1</td>\n",
              "      <td>2</td>\n",
              "      <td>1</td>\n",
              "      <td>0</td>\n",
              "      <td>0</td>\n",
              "      <td>0</td>\n",
              "      <td>0</td>\n",
              "      <td>0</td>\n",
              "      <td>0</td>\n",
              "      <td>0</td>\n",
              "      <td>0</td>\n",
              "      <td>0</td>\n",
              "      <td>0</td>\n",
              "      <td>0</td>\n",
              "      <td>0</td>\n",
              "      <td>0</td>\n",
              "      <td>0</td>\n",
              "      <td>0</td>\n",
              "      <td>0</td>\n",
              "      <td>0</td>\n",
              "      <td>0</td>\n",
              "      <td>0</td>\n",
              "      <td>0</td>\n",
              "      <td>0</td>\n",
              "      <td>0</td>\n",
              "      <td>0</td>\n",
              "      <td>0</td>\n",
              "      <td>0</td>\n",
              "      <td>0</td>\n",
              "      <td>0</td>\n",
              "      <td>0</td>\n",
              "      <td>0</td>\n",
              "      <td>0</td>\n",
              "      <td>0</td>\n",
              "      <td>0</td>\n",
              "      <td>0</td>\n",
              "      <td>0</td>\n",
              "      <td>...</td>\n",
              "      <td>0</td>\n",
              "      <td>0</td>\n",
              "      <td>0</td>\n",
              "      <td>0</td>\n",
              "      <td>0</td>\n",
              "      <td>0</td>\n",
              "      <td>0</td>\n",
              "      <td>0</td>\n",
              "      <td>0</td>\n",
              "      <td>0</td>\n",
              "      <td>0</td>\n",
              "      <td>0</td>\n",
              "      <td>0</td>\n",
              "      <td>0</td>\n",
              "      <td>0</td>\n",
              "      <td>0</td>\n",
              "      <td>0</td>\n",
              "      <td>0</td>\n",
              "      <td>0</td>\n",
              "      <td>0</td>\n",
              "      <td>0</td>\n",
              "      <td>0</td>\n",
              "      <td>0</td>\n",
              "      <td>0</td>\n",
              "      <td>0</td>\n",
              "      <td>0</td>\n",
              "      <td>0</td>\n",
              "      <td>0</td>\n",
              "      <td>0</td>\n",
              "      <td>0</td>\n",
              "      <td>0</td>\n",
              "      <td>0</td>\n",
              "      <td>0</td>\n",
              "      <td>0</td>\n",
              "      <td>0</td>\n",
              "      <td>0</td>\n",
              "      <td>0</td>\n",
              "      <td>0</td>\n",
              "      <td>0</td>\n",
              "      <td>0</td>\n",
              "    </tr>\n",
              "    <tr>\n",
              "      <th>3</th>\n",
              "      <td>189</td>\n",
              "      <td>28</td>\n",
              "      <td>6.517241</td>\n",
              "      <td>1</td>\n",
              "      <td>2</td>\n",
              "      <td>3</td>\n",
              "      <td>0</td>\n",
              "      <td>0</td>\n",
              "      <td>0</td>\n",
              "      <td>0</td>\n",
              "      <td>0</td>\n",
              "      <td>0</td>\n",
              "      <td>0</td>\n",
              "      <td>0</td>\n",
              "      <td>0</td>\n",
              "      <td>0</td>\n",
              "      <td>0</td>\n",
              "      <td>0</td>\n",
              "      <td>0</td>\n",
              "      <td>0</td>\n",
              "      <td>0</td>\n",
              "      <td>0</td>\n",
              "      <td>0</td>\n",
              "      <td>0</td>\n",
              "      <td>0</td>\n",
              "      <td>0</td>\n",
              "      <td>0</td>\n",
              "      <td>0</td>\n",
              "      <td>0</td>\n",
              "      <td>0</td>\n",
              "      <td>0</td>\n",
              "      <td>0</td>\n",
              "      <td>0</td>\n",
              "      <td>0</td>\n",
              "      <td>0</td>\n",
              "      <td>0</td>\n",
              "      <td>0</td>\n",
              "      <td>0</td>\n",
              "      <td>0</td>\n",
              "      <td>0</td>\n",
              "      <td>...</td>\n",
              "      <td>0</td>\n",
              "      <td>0</td>\n",
              "      <td>0</td>\n",
              "      <td>0</td>\n",
              "      <td>0</td>\n",
              "      <td>0</td>\n",
              "      <td>0</td>\n",
              "      <td>0</td>\n",
              "      <td>0</td>\n",
              "      <td>0</td>\n",
              "      <td>0</td>\n",
              "      <td>0</td>\n",
              "      <td>0</td>\n",
              "      <td>0</td>\n",
              "      <td>0</td>\n",
              "      <td>0</td>\n",
              "      <td>0</td>\n",
              "      <td>0</td>\n",
              "      <td>0</td>\n",
              "      <td>0</td>\n",
              "      <td>0</td>\n",
              "      <td>0</td>\n",
              "      <td>0</td>\n",
              "      <td>0</td>\n",
              "      <td>0</td>\n",
              "      <td>0</td>\n",
              "      <td>0</td>\n",
              "      <td>0</td>\n",
              "      <td>0</td>\n",
              "      <td>0</td>\n",
              "      <td>0</td>\n",
              "      <td>0</td>\n",
              "      <td>0</td>\n",
              "      <td>0</td>\n",
              "      <td>0</td>\n",
              "      <td>0</td>\n",
              "      <td>0</td>\n",
              "      <td>0</td>\n",
              "      <td>0</td>\n",
              "      <td>0</td>\n",
              "    </tr>\n",
              "    <tr>\n",
              "      <th>4</th>\n",
              "      <td>53</td>\n",
              "      <td>9</td>\n",
              "      <td>5.300000</td>\n",
              "      <td>1</td>\n",
              "      <td>1</td>\n",
              "      <td>0</td>\n",
              "      <td>0</td>\n",
              "      <td>0</td>\n",
              "      <td>0</td>\n",
              "      <td>0</td>\n",
              "      <td>0</td>\n",
              "      <td>0</td>\n",
              "      <td>0</td>\n",
              "      <td>0</td>\n",
              "      <td>0</td>\n",
              "      <td>0</td>\n",
              "      <td>0</td>\n",
              "      <td>0</td>\n",
              "      <td>0</td>\n",
              "      <td>0</td>\n",
              "      <td>0</td>\n",
              "      <td>0</td>\n",
              "      <td>0</td>\n",
              "      <td>0</td>\n",
              "      <td>0</td>\n",
              "      <td>0</td>\n",
              "      <td>0</td>\n",
              "      <td>0</td>\n",
              "      <td>0</td>\n",
              "      <td>0</td>\n",
              "      <td>0</td>\n",
              "      <td>0</td>\n",
              "      <td>0</td>\n",
              "      <td>0</td>\n",
              "      <td>0</td>\n",
              "      <td>0</td>\n",
              "      <td>0</td>\n",
              "      <td>0</td>\n",
              "      <td>0</td>\n",
              "      <td>0</td>\n",
              "      <td>...</td>\n",
              "      <td>0</td>\n",
              "      <td>0</td>\n",
              "      <td>0</td>\n",
              "      <td>0</td>\n",
              "      <td>0</td>\n",
              "      <td>0</td>\n",
              "      <td>0</td>\n",
              "      <td>0</td>\n",
              "      <td>0</td>\n",
              "      <td>0</td>\n",
              "      <td>0</td>\n",
              "      <td>0</td>\n",
              "      <td>0</td>\n",
              "      <td>0</td>\n",
              "      <td>0</td>\n",
              "      <td>0</td>\n",
              "      <td>0</td>\n",
              "      <td>0</td>\n",
              "      <td>0</td>\n",
              "      <td>0</td>\n",
              "      <td>0</td>\n",
              "      <td>0</td>\n",
              "      <td>0</td>\n",
              "      <td>0</td>\n",
              "      <td>0</td>\n",
              "      <td>0</td>\n",
              "      <td>0</td>\n",
              "      <td>0</td>\n",
              "      <td>0</td>\n",
              "      <td>0</td>\n",
              "      <td>0</td>\n",
              "      <td>0</td>\n",
              "      <td>0</td>\n",
              "      <td>0</td>\n",
              "      <td>0</td>\n",
              "      <td>0</td>\n",
              "      <td>0</td>\n",
              "      <td>0</td>\n",
              "      <td>0</td>\n",
              "      <td>0</td>\n",
              "    </tr>\n",
              "  </tbody>\n",
              "</table>\n",
              "<p>5 rows × 19596 columns</p>\n",
              "</div>"
            ],
            "text/plain": [
              "   char_count  word_count  word_density  ...  𝚜𝚞𝚋𝚜𝚒𝚍𝚒𝚘  𝚝𝚊𝚖𝚋𝚒𝚎  𝚟𝚎𝚛𝚗𝚘𝚜\n",
              "0         180          30      5.806452  ...         0       0       0\n",
              "1          77          10      7.000000  ...         0       0       0\n",
              "2         159          23      6.625000  ...         0       0       0\n",
              "3         189          28      6.517241  ...         0       0       0\n",
              "4          53           9      5.300000  ...         0       0       0\n",
              "\n",
              "[5 rows x 19596 columns]"
            ]
          },
          "metadata": {
            "tags": []
          },
          "execution_count": 25
        }
      ]
    },
    {
      "cell_type": "markdown",
      "metadata": {
        "id": "J9kYD2-zVxCv"
      },
      "source": [
        "## Model Training and Evaluation"
      ]
    },
    {
      "cell_type": "code",
      "metadata": {
        "id": "AB4NkQM6VxCw",
        "outputId": "49890fe4-97e3-4882-a69a-ecee91fb565b",
        "colab": {
          "base_uri": "https://localhost:8080/",
          "height": 52
        }
      },
      "source": [
        "log_reg.fit(X_train_comb, y_train)\n",
        "predictions = log_reg.predict(X_test_comb)\n",
        "\n",
        "log_reg.coef_"
      ],
      "execution_count": 26,
      "outputs": [
        {
          "output_type": "execute_result",
          "data": {
            "text/plain": [
              "array([[-0.00091642,  0.06229296, -0.17914691, ..., -0.10746255,\n",
              "        -0.10746255, -0.10746255]])"
            ]
          },
          "metadata": {
            "tags": []
          },
          "execution_count": 26
        }
      ]
    },
    {
      "cell_type": "code",
      "metadata": {
        "id": "1ZGMZDpuVxCy",
        "outputId": "1865c5c6-99b2-403c-c27b-b847f1e64db0",
        "colab": {
          "base_uri": "https://localhost:8080/",
          "height": 266
        }
      },
      "source": [
        "print(classification_report(y_test, predictions))\n",
        "pd.DataFrame(confusion_matrix(y_test, predictions))"
      ],
      "execution_count": 27,
      "outputs": [
        {
          "output_type": "stream",
          "text": [
            "              precision    recall  f1-score   support\n",
            "\n",
            "           0       0.79      0.81      0.80      1418\n",
            "           1       0.73      0.70      0.71      1041\n",
            "\n",
            "    accuracy                           0.76      2459\n",
            "   macro avg       0.76      0.76      0.76      2459\n",
            "weighted avg       0.76      0.76      0.76      2459\n",
            "\n"
          ],
          "name": "stdout"
        },
        {
          "output_type": "execute_result",
          "data": {
            "text/html": [
              "<div>\n",
              "<style scoped>\n",
              "    .dataframe tbody tr th:only-of-type {\n",
              "        vertical-align: middle;\n",
              "    }\n",
              "\n",
              "    .dataframe tbody tr th {\n",
              "        vertical-align: top;\n",
              "    }\n",
              "\n",
              "    .dataframe thead th {\n",
              "        text-align: right;\n",
              "    }\n",
              "</style>\n",
              "<table border=\"1\" class=\"dataframe\">\n",
              "  <thead>\n",
              "    <tr style=\"text-align: right;\">\n",
              "      <th></th>\n",
              "      <th>0</th>\n",
              "      <th>1</th>\n",
              "    </tr>\n",
              "  </thead>\n",
              "  <tbody>\n",
              "    <tr>\n",
              "      <th>0</th>\n",
              "      <td>1154</td>\n",
              "      <td>264</td>\n",
              "    </tr>\n",
              "    <tr>\n",
              "      <th>1</th>\n",
              "      <td>315</td>\n",
              "      <td>726</td>\n",
              "    </tr>\n",
              "  </tbody>\n",
              "</table>\n",
              "</div>"
            ],
            "text/plain": [
              "      0    1\n",
              "0  1154  264\n",
              "1   315  726"
            ]
          },
          "metadata": {
            "tags": []
          },
          "execution_count": 27
        }
      ]
    },
    {
      "cell_type": "markdown",
      "metadata": {
        "id": "rqWQMMPVVxC0"
      },
      "source": [
        "## SVM"
      ]
    },
    {
      "cell_type": "code",
      "metadata": {
        "id": "RoConorSVxC0"
      },
      "source": [
        "from sklearn import svm"
      ],
      "execution_count": 28,
      "outputs": []
    },
    {
      "cell_type": "code",
      "metadata": {
        "id": "FZeHBR3wVxC3",
        "outputId": "e6fb9e34-7683-4428-b40f-d132c0efd4d8",
        "colab": {
          "base_uri": "https://localhost:8080/",
          "height": 86
        }
      },
      "source": [
        "svm_m = svm.SVC()\n",
        "svm_m.fit(X_train_metadata, y_train)\n"
      ],
      "execution_count": 29,
      "outputs": [
        {
          "output_type": "execute_result",
          "data": {
            "text/plain": [
              "SVC(C=1.0, break_ties=False, cache_size=200, class_weight=None, coef0=0.0,\n",
              "    decision_function_shape='ovr', degree=3, gamma='scale', kernel='rbf',\n",
              "    max_iter=-1, probability=False, random_state=None, shrinking=True,\n",
              "    tol=0.001, verbose=False)"
            ]
          },
          "metadata": {
            "tags": []
          },
          "execution_count": 29
        }
      ]
    },
    {
      "cell_type": "code",
      "metadata": {
        "id": "blSA63DAVxC5"
      },
      "source": [
        "predictions = svm_m.predict(X_test_metadata)\n"
      ],
      "execution_count": 30,
      "outputs": []
    },
    {
      "cell_type": "code",
      "metadata": {
        "id": "lMG1xZGiVxC7"
      },
      "source": [
        "# predictions."
      ],
      "execution_count": 31,
      "outputs": []
    },
    {
      "cell_type": "code",
      "metadata": {
        "id": "54hyHQ8cVxC-",
        "outputId": "f480af5e-a2f4-443e-914f-f63a101f0801",
        "colab": {
          "base_uri": "https://localhost:8080/",
          "height": 266
        }
      },
      "source": [
        "print(classification_report(y_test, predictions))\n",
        "pd.DataFrame(confusion_matrix(y_test, predictions))"
      ],
      "execution_count": 32,
      "outputs": [
        {
          "output_type": "stream",
          "text": [
            "              precision    recall  f1-score   support\n",
            "\n",
            "           0       0.60      0.90      0.72      1418\n",
            "           1       0.59      0.20      0.30      1041\n",
            "\n",
            "    accuracy                           0.60      2459\n",
            "   macro avg       0.60      0.55      0.51      2459\n",
            "weighted avg       0.60      0.60      0.54      2459\n",
            "\n"
          ],
          "name": "stdout"
        },
        {
          "output_type": "execute_result",
          "data": {
            "text/html": [
              "<div>\n",
              "<style scoped>\n",
              "    .dataframe tbody tr th:only-of-type {\n",
              "        vertical-align: middle;\n",
              "    }\n",
              "\n",
              "    .dataframe tbody tr th {\n",
              "        vertical-align: top;\n",
              "    }\n",
              "\n",
              "    .dataframe thead th {\n",
              "        text-align: right;\n",
              "    }\n",
              "</style>\n",
              "<table border=\"1\" class=\"dataframe\">\n",
              "  <thead>\n",
              "    <tr style=\"text-align: right;\">\n",
              "      <th></th>\n",
              "      <th>0</th>\n",
              "      <th>1</th>\n",
              "    </tr>\n",
              "  </thead>\n",
              "  <tbody>\n",
              "    <tr>\n",
              "      <th>0</th>\n",
              "      <td>1275</td>\n",
              "      <td>143</td>\n",
              "    </tr>\n",
              "    <tr>\n",
              "      <th>1</th>\n",
              "      <td>835</td>\n",
              "      <td>206</td>\n",
              "    </tr>\n",
              "  </tbody>\n",
              "</table>\n",
              "</div>"
            ],
            "text/plain": [
              "      0    1\n",
              "0  1275  143\n",
              "1   835  206"
            ]
          },
          "metadata": {
            "tags": []
          },
          "execution_count": 32
        }
      ]
    },
    {
      "cell_type": "code",
      "metadata": {
        "id": "R7GByOKDVxDA"
      },
      "source": [
        ""
      ],
      "execution_count": 32,
      "outputs": []
    },
    {
      "cell_type": "markdown",
      "metadata": {
        "id": "qcsd-oQ6VxDC"
      },
      "source": [
        "## Neural network"
      ]
    },
    {
      "cell_type": "code",
      "metadata": {
        "id": "q5WPukcMVxDC",
        "outputId": "6f7375f2-8cfc-4454-94d1-b276028fd32a",
        "colab": {
          "base_uri": "https://localhost:8080/",
          "height": 52
        }
      },
      "source": [
        "import numpy as np\n",
        "import pandas as pd\n",
        "import tensorflow as tf\n",
        "import matplotlib.pyplot as plt\n",
        "\n",
        "from sklearn.model_selection import train_test_split\n",
        "from sklearn.metrics import accuracy_score\n",
        "from sklearn.metrics import confusion_matrix\n",
        "\n",
        "import nltk\n",
        "from nltk import word_tokenize\n",
        "from wordcloud import WordCloud\n",
        "nltk.download('stopwords')\n",
        "import re\n",
        "\n",
        "from tensorflow.keras import regularizers\n",
        "from tensorflow.keras.preprocessing.text import Tokenizer\n",
        "from tensorflow.keras.preprocessing.sequence import pad_sequences\n",
        "from tensorflow.keras.layers import Embedding, Dense, GlobalMaxPooling1D, Dropout\n",
        "from tensorflow.keras.models import Sequential\n",
        "from tensorflow.keras import regularizers\n",
        "from tensorflow.keras.callbacks import EarlyStopping\n",
        "\n",
        "try:\n",
        "    tf.set_random_seed(1337)                    # set the random seed for reproducibility\n",
        "except:\n",
        "    tf.random.set_seed(1337)                     # NOTE: Newer version of tensorflow uses tf.random.set_seed\n",
        "np.random.seed(1337)                         #       instead of tf.set_random_seed"
      ],
      "execution_count": 33,
      "outputs": [
        {
          "output_type": "stream",
          "text": [
            "[nltk_data] Downloading package stopwords to /root/nltk_data...\n",
            "[nltk_data]   Package stopwords is already up-to-date!\n"
          ],
          "name": "stdout"
        }
      ]
    },
    {
      "cell_type": "code",
      "metadata": {
        "id": "WGOZbwN1X2Bx"
      },
      "source": [
        "def plot_validation_model(hist_):\n",
        "    history_dict = hist_.history\n",
        "\n",
        "    acc = history_dict['accuracy']\n",
        "    val_acc = history_dict['val_accuracy']\n",
        "    loss=history_dict['loss']\n",
        "    val_loss=history_dict['val_loss']\n",
        "\n",
        "    epochs = range(1, len(acc) + 1)\n",
        "\n",
        "    plt.figure(figsize=(8,6))\n",
        "    plt.plot(epochs, loss, 'bo', label='Training loss')\n",
        "    plt.plot(epochs, val_loss, 'b', label='Validation loss')\n",
        "    plt.title('Training and validation loss')\n",
        "    plt.xlabel('Epochs')\n",
        "    plt.ylabel('Loss')\n",
        "    plt.legend()\n",
        "    plt.show()\n",
        "\n",
        "    plt.figure(figsize=(8,6))\n",
        "    plt.plot(epochs, acc, 'bo', label='Training acc')\n",
        "    plt.plot(epochs, val_acc, 'b', label='Validation acc')\n",
        "    plt.title('Training and validation accuracy')\n",
        "    plt.xlabel('Epochs')\n",
        "    plt.ylabel('Accuracy')\n",
        "    plt.legend(loc='lower right')\n",
        "    # plt.ylim((0.5,1))\n",
        "    plt.show()\n",
        "    \n",
        "    acc_ = [(acc[i], val_acc[i]) for i in range(len(acc))]\n",
        "    acc_.sort(key=lambda x: (x[0], x[1]), reverse=True)\n",
        "    return acc_[1]"
      ],
      "execution_count": 34,
      "outputs": []
    },
    {
      "cell_type": "code",
      "metadata": {
        "id": "auMuSV57VxDE"
      },
      "source": [
        "X_train, X_test, y_train, y_test = train_test_split(data_['text'], \n",
        "                                                    data_['score'],\n",
        "                                                    test_size=0.2)"
      ],
      "execution_count": 35,
      "outputs": []
    },
    {
      "cell_type": "code",
      "metadata": {
        "id": "xrRoMAVTVxDH",
        "outputId": "08bbf9b2-d6b7-48a9-a6fa-b18a14e537d0",
        "colab": {
          "base_uri": "https://localhost:8080/",
          "height": 285
        }
      },
      "source": [
        "number_words_per_review = data_['text'].apply(lambda x: len(str(x).split(' ')) if not x in stop_words else 0)\n",
        "number_words_per_review.hist(bins=100)"
      ],
      "execution_count": 36,
      "outputs": [
        {
          "output_type": "execute_result",
          "data": {
            "text/plain": [
              "<matplotlib.axes._subplots.AxesSubplot at 0x7fd7449c16a0>"
            ]
          },
          "metadata": {
            "tags": []
          },
          "execution_count": 36
        },
        {
          "output_type": "display_data",
          "data": {
            "image/png": "[encoded data removed]",
            "text/plain": [
              "<Figure size 432x288 with 1 Axes>"
            ]
          },
          "metadata": {
            "tags": [],
            "needs_background": "light"
          }
        }
      ]
    },
    {
      "cell_type": "code",
      "metadata": {
        "id": "glTAP7yyVxDJ",
        "outputId": "7a25755a-9e65-42af-a5e3-1b8457936d1c",
        "colab": {
          "base_uri": "https://localhost:8080/",
          "height": 34
        }
      },
      "source": [
        "perc80np = np.percentile(number_words_per_review, 80)\n",
        "print(f\"Percentil 80th: {perc80np}\")"
      ],
      "execution_count": 37,
      "outputs": [
        {
          "output_type": "stream",
          "text": [
            "Percentil 80th: 39.0\n"
          ],
          "name": "stdout"
        }
      ]
    },
    {
      "cell_type": "code",
      "metadata": {
        "id": "xcKjYXz2VxDL",
        "outputId": "7c46caae-7a73-47c3-bb40-54dbbf53f4ef",
        "colab": {
          "base_uri": "https://localhost:8080/",
          "height": 34
        }
      },
      "source": [
        "print(len(nltk.word_tokenize(\" \".join(X_train)))*0.8)"
      ],
      "execution_count": 38,
      "outputs": [
        {
          "output_type": "stream",
          "text": [
            "181439.2\n"
          ],
          "name": "stdout"
        }
      ]
    },
    {
      "cell_type": "code",
      "metadata": {
        "id": "84Xb4oWxVxDN"
      },
      "source": [
        "tokenizer = Tokenizer(num_words=180000) #We create the tokenizer using only top 20000 words\n",
        "tokenizer.fit_on_texts(X_train)  #Then, we create the text->indices mapping. "
      ],
      "execution_count": 39,
      "outputs": []
    },
    {
      "cell_type": "code",
      "metadata": {
        "id": "jFvsroseVxDR"
      },
      "source": [
        ""
      ],
      "execution_count": 39,
      "outputs": []
    },
    {
      "cell_type": "code",
      "metadata": {
        "id": "nxRuIQz3VxDU"
      },
      "source": [
        "train_sequence = tokenizer.texts_to_sequences(X_train)\n",
        "test_sequence = tokenizer.texts_to_sequences(X_test)\n",
        "\n",
        "train_sequences = tf.keras.preprocessing.sequence.pad_sequences(train_sequence, 39)\n",
        "test_sequences = tf.keras.preprocessing.sequence.pad_sequences(test_sequence, 39)"
      ],
      "execution_count": 40,
      "outputs": []
    },
    {
      "cell_type": "code",
      "metadata": {
        "id": "_y4MqxmQVxDY"
      },
      "source": [
        "model = Sequential()\n",
        "model.add(Embedding(181700, 128, input_length=39))\n",
        "model.add(Dense(128, activation='relu'))\n",
        "model.add(Dense(128, activation='relu'))\n",
        "model.add(GlobalMaxPooling1D())\n",
        "model.add(Dense(2, activation='sigmoid'))\n",
        "model.compile(loss='sparse_categorical_crossentropy', optimizer='adam', metrics=['accuracy'])"
      ],
      "execution_count": 41,
      "outputs": []
    },
    {
      "cell_type": "code",
      "metadata": {
        "id": "qhLlSJy7VxDa",
        "outputId": "08f76e49-7019-4fb8-b9ba-9d03326657c4",
        "colab": {
          "base_uri": "https://localhost:8080/",
          "height": 323
        }
      },
      "source": [
        "model.summary()"
      ],
      "execution_count": 42,
      "outputs": [
        {
          "output_type": "stream",
          "text": [
            "Model: \"sequential\"\n",
            "_________________________________________________________________\n",
            "Layer (type)                 Output Shape              Param #   \n",
            "=================================================================\n",
            "embedding (Embedding)        (None, 39, 128)           23257600  \n",
            "_________________________________________________________________\n",
            "dense (Dense)                (None, 39, 128)           16512     \n",
            "_________________________________________________________________\n",
            "dense_1 (Dense)              (None, 39, 128)           16512     \n",
            "_________________________________________________________________\n",
            "global_max_pooling1d (Global (None, 128)               0         \n",
            "_________________________________________________________________\n",
            "dense_2 (Dense)              (None, 2)                 258       \n",
            "=================================================================\n",
            "Total params: 23,290,882\n",
            "Trainable params: 23,290,882\n",
            "Non-trainable params: 0\n",
            "_________________________________________________________________\n"
          ],
          "name": "stdout"
        }
      ]
    },
    {
      "cell_type": "code",
      "metadata": {
        "id": "_zAsxKFKVxDd",
        "outputId": "71da41aa-f9b9-4080-a42a-cd7c79ec14a8",
        "colab": {
          "base_uri": "https://localhost:8080/",
          "height": 51
        }
      },
      "source": [
        "print(train_sequences.shape)\n",
        "print(y_train.shape)"
      ],
      "execution_count": 43,
      "outputs": [
        {
          "output_type": "stream",
          "text": [
            "(7866, 39)\n",
            "(7866,)\n"
          ],
          "name": "stdout"
        }
      ]
    },
    {
      "cell_type": "code",
      "metadata": {
        "id": "peQewYJ3VxDg",
        "outputId": "f90fb0f2-72e0-48d7-b669-959b5528cde9",
        "colab": {
          "base_uri": "https://localhost:8080/",
          "height": 357
        }
      },
      "source": [
        "history = model.fit(train_sequences, y_train, validation_split=0.2, epochs=10)"
      ],
      "execution_count": 44,
      "outputs": [
        {
          "output_type": "stream",
          "text": [
            "Epoch 1/10\n",
            "197/197 [==============================] - 43s 220ms/step - loss: 0.6128 - accuracy: 0.6615 - val_loss: 0.5145 - val_accuracy: 0.7630\n",
            "Epoch 2/10\n",
            "197/197 [==============================] - 43s 218ms/step - loss: 0.3992 - accuracy: 0.8249 - val_loss: 0.4719 - val_accuracy: 0.7789\n",
            "Epoch 3/10\n",
            "197/197 [==============================] - 42s 215ms/step - loss: 0.1590 - accuracy: 0.9444 - val_loss: 0.6461 - val_accuracy: 0.7529\n",
            "Epoch 4/10\n",
            "197/197 [==============================] - 43s 218ms/step - loss: 0.0416 - accuracy: 0.9894 - val_loss: 0.8127 - val_accuracy: 0.7618\n",
            "Epoch 5/10\n",
            "197/197 [==============================] - 43s 217ms/step - loss: 0.0167 - accuracy: 0.9963 - val_loss: 0.8698 - val_accuracy: 0.7503\n",
            "Epoch 6/10\n",
            "197/197 [==============================] - 43s 219ms/step - loss: 0.0116 - accuracy: 0.9973 - val_loss: 0.9473 - val_accuracy: 0.7567\n",
            "Epoch 7/10\n",
            "197/197 [==============================] - 42s 214ms/step - loss: 0.0065 - accuracy: 0.9981 - val_loss: 1.0071 - val_accuracy: 0.7516\n",
            "Epoch 8/10\n",
            "197/197 [==============================] - 43s 216ms/step - loss: 0.0072 - accuracy: 0.9983 - val_loss: 1.0740 - val_accuracy: 0.7535\n",
            "Epoch 9/10\n",
            "197/197 [==============================] - 43s 216ms/step - loss: 0.0058 - accuracy: 0.9986 - val_loss: 1.1271 - val_accuracy: 0.7452\n",
            "Epoch 10/10\n",
            "197/197 [==============================] - 43s 219ms/step - loss: 0.0057 - accuracy: 0.9986 - val_loss: 1.1351 - val_accuracy: 0.7484\n"
          ],
          "name": "stdout"
        }
      ]
    },
    {
      "cell_type": "code",
      "metadata": {
        "id": "SsBbSR3gVxDi"
      },
      "source": [
        ""
      ],
      "execution_count": 44,
      "outputs": []
    },
    {
      "cell_type": "code",
      "metadata": {
        "id": "JuO6fyHOVxDl",
        "outputId": "76b9f791-a086-4de0-848e-198a651f4592",
        "colab": {
          "base_uri": "https://localhost:8080/",
          "height": 808
        }
      },
      "source": [
        "plot_validation_model(history)"
      ],
      "execution_count": 45,
      "outputs": [
        {
          "output_type": "display_data",
          "data": {
            "image/png": "[encoded data removed]",
            "text/plain": [
              "<Figure size 576x432 with 1 Axes>"
            ]
          },
          "metadata": {
            "tags": [],
            "needs_background": "light"
          }
        },
        {
          "output_type": "display_data",
          "data": {
            "image/png": "[encoded data removed]",
            "text/plain": [
              "<Figure size 576x432 with 1 Axes>"
            ]
          },
          "metadata": {
            "tags": [],
            "needs_background": "light"
          }
        },
        {
          "output_type": "execute_result",
          "data": {
            "text/plain": [
              "(0.9985696077346802, 0.7452350854873657)"
            ]
          },
          "metadata": {
            "tags": []
          },
          "execution_count": 45
        }
      ]
    },
    {
      "cell_type": "code",
      "metadata": {
        "id": "AViGEXiUVxDo",
        "outputId": "a188ce75-e6e3-4c20-b907-d0027d0d96be",
        "colab": {
          "base_uri": "https://localhost:8080/",
          "height": 357
        }
      },
      "source": [
        "model2 = Sequential()\n",
        "model2.add(Embedding(181700, 128, input_length=39))\n",
        "model2.add(Dropout(0.2)) # --------------------------->Dropout layer will affect the output of previous layer.\n",
        "model2.add(Dense(128, activation='relu')) \n",
        "model2.add(Dense(128, activation='relu'))\n",
        "model2.add(GlobalMaxPooling1D())\n",
        "model2.add(Dense(2, activation='sigmoid'))\n",
        "model2.compile(loss='sparse_categorical_crossentropy', optimizer='adam', metrics=['accuracy'])\n",
        "history2 = model2.fit(train_sequences, y_train, validation_split=0.2, epochs=10)"
      ],
      "execution_count": 46,
      "outputs": [
        {
          "output_type": "stream",
          "text": [
            "Epoch 1/10\n",
            "197/197 [==============================] - 44s 222ms/step - loss: 0.6204 - accuracy: 0.6613 - val_loss: 0.5181 - val_accuracy: 0.7471\n",
            "Epoch 2/10\n",
            "197/197 [==============================] - 43s 220ms/step - loss: 0.4304 - accuracy: 0.8001 - val_loss: 0.4720 - val_accuracy: 0.7662\n",
            "Epoch 3/10\n",
            "197/197 [==============================] - 43s 220ms/step - loss: 0.2149 - accuracy: 0.9142 - val_loss: 0.5772 - val_accuracy: 0.7490\n",
            "Epoch 4/10\n",
            "197/197 [==============================] - 43s 220ms/step - loss: 0.0741 - accuracy: 0.9762 - val_loss: 0.7208 - val_accuracy: 0.7586\n",
            "Epoch 5/10\n",
            "197/197 [==============================] - 44s 221ms/step - loss: 0.0265 - accuracy: 0.9936 - val_loss: 0.8942 - val_accuracy: 0.7510\n",
            "Epoch 6/10\n",
            "197/197 [==============================] - 43s 220ms/step - loss: 0.0121 - accuracy: 0.9975 - val_loss: 0.9511 - val_accuracy: 0.7548\n",
            "Epoch 7/10\n",
            "197/197 [==============================] - 43s 219ms/step - loss: 0.0073 - accuracy: 0.9984 - val_loss: 1.0337 - val_accuracy: 0.7471\n",
            "Epoch 8/10\n",
            "197/197 [==============================] - 44s 221ms/step - loss: 0.0084 - accuracy: 0.9983 - val_loss: 1.0486 - val_accuracy: 0.7592\n",
            "Epoch 9/10\n",
            "197/197 [==============================] - 43s 220ms/step - loss: 0.0064 - accuracy: 0.9986 - val_loss: 1.0839 - val_accuracy: 0.7529\n",
            "Epoch 10/10\n",
            "197/197 [==============================] - 43s 221ms/step - loss: 0.0053 - accuracy: 0.9987 - val_loss: 1.2140 - val_accuracy: 0.7389\n"
          ],
          "name": "stdout"
        }
      ]
    },
    {
      "cell_type": "code",
      "metadata": {
        "id": "DNkULQFfVxDq",
        "outputId": "d355f7f5-b144-47ab-cc6f-5431a714f5cf",
        "colab": {
          "base_uri": "https://localhost:8080/",
          "height": 808
        }
      },
      "source": [
        "plot_validation_model(history)"
      ],
      "execution_count": 47,
      "outputs": [
        {
          "output_type": "display_data",
          "data": {
            "image/png": "[encoded data removed]",
            "text/plain": [
              "<Figure size 576x432 with 1 Axes>"
            ]
          },
          "metadata": {
            "tags": [],
            "needs_background": "light"
          }
        },
        {
          "output_type": "display_data",
          "data": {
            "image/png": "[encoded data removed]",
            "text/plain": [
              "<Figure size 576x432 with 1 Axes>"
            ]
          },
          "metadata": {
            "tags": [],
            "needs_background": "light"
          }
        },
        {
          "output_type": "execute_result",
          "data": {
            "text/plain": [
              "(0.9985696077346802, 0.7452350854873657)"
            ]
          },
          "metadata": {
            "tags": []
          },
          "execution_count": 47
        }
      ]
    },
    {
      "cell_type": "code",
      "metadata": {
        "id": "Eu8gJiFgVxDs"
      },
      "source": [
        "model3 = Sequential()\n",
        "model3.add(Embedding(80000, 128, input_length=39))\n",
        "model3.add(Dropout(0.2)) # --------------------------->Dropout layer will affect the output of previous layer.\n",
        "model3.add(Dense(128, activation='relu')) \n",
        "model3.add(Dropout(0.2))\n",
        "model3.add(Dense(128, activation='relu'))\n",
        "model3.add(Dropout(0.2))\n",
        "model3.add(GlobalMaxPooling1D())\n",
        "model3.add(Dense(2, activation='sigmoid'))\n",
        "model3.compile(loss='sparse_categorical_crossentropy', optimizer='adam', metrics=['accuracy'])\n"
      ],
      "execution_count": 48,
      "outputs": []
    },
    {
      "cell_type": "code",
      "metadata": {
        "id": "lkBtWQVWVxDw",
        "outputId": "de9997da-3a7a-4a51-d09e-287eb8338cf1",
        "colab": {
          "base_uri": "https://localhost:8080/",
          "height": 357
        }
      },
      "source": [
        "history3 = model3.fit(train_sequences, y_train, validation_split=0.2, epochs=10)\n"
      ],
      "execution_count": 49,
      "outputs": [
        {
          "output_type": "stream",
          "text": [
            "Epoch 1/10\n",
            "197/197 [==============================] - 23s 117ms/step - loss: 0.6297 - accuracy: 0.6435 - val_loss: 0.5608 - val_accuracy: 0.7313\n",
            "Epoch 2/10\n",
            "197/197 [==============================] - 23s 114ms/step - loss: 0.4679 - accuracy: 0.7748 - val_loss: 0.5154 - val_accuracy: 0.7433\n",
            "Epoch 3/10\n",
            "197/197 [==============================] - 23s 115ms/step - loss: 0.2696 - accuracy: 0.8908 - val_loss: 0.5223 - val_accuracy: 0.7503\n",
            "Epoch 4/10\n",
            "197/197 [==============================] - 23s 115ms/step - loss: 0.1243 - accuracy: 0.9572 - val_loss: 0.6312 - val_accuracy: 0.7370\n",
            "Epoch 5/10\n",
            "197/197 [==============================] - 23s 115ms/step - loss: 0.0529 - accuracy: 0.9828 - val_loss: 0.8647 - val_accuracy: 0.7173\n",
            "Epoch 6/10\n",
            "197/197 [==============================] - 23s 115ms/step - loss: 0.0239 - accuracy: 0.9925 - val_loss: 1.0237 - val_accuracy: 0.7173\n",
            "Epoch 7/10\n",
            "197/197 [==============================] - 23s 115ms/step - loss: 0.0156 - accuracy: 0.9962 - val_loss: 1.0924 - val_accuracy: 0.7128\n",
            "Epoch 8/10\n",
            "197/197 [==============================] - 23s 114ms/step - loss: 0.0085 - accuracy: 0.9975 - val_loss: 1.2016 - val_accuracy: 0.7078\n",
            "Epoch 9/10\n",
            "197/197 [==============================] - 22s 113ms/step - loss: 0.0100 - accuracy: 0.9970 - val_loss: 1.2301 - val_accuracy: 0.7014\n",
            "Epoch 10/10\n",
            "197/197 [==============================] - 23s 115ms/step - loss: 0.0076 - accuracy: 0.9981 - val_loss: 1.3647 - val_accuracy: 0.7052\n"
          ],
          "name": "stdout"
        }
      ]
    },
    {
      "cell_type": "code",
      "metadata": {
        "id": "HGMpVD6XVxDx",
        "outputId": "f48b2f75-0643-4282-fb56-46700c9a15f6",
        "colab": {
          "base_uri": "https://localhost:8080/",
          "height": 808
        }
      },
      "source": [
        "plot_validation_model(history3)"
      ],
      "execution_count": 50,
      "outputs": [
        {
          "output_type": "display_data",
          "data": {
            "image/png": "[encoded data removed]",
            "text/plain": [
              "<Figure size 576x432 with 1 Axes>"
            ]
          },
          "metadata": {
            "tags": [],
            "needs_background": "light"
          }
        },
        {
          "output_type": "display_data",
          "data": {
            "image/png": "[encoded data removed]",
            "text/plain": [
              "<Figure size 576x432 with 1 Axes>"
            ]
          },
          "metadata": {
            "tags": [],
            "needs_background": "light"
          }
        },
        {
          "output_type": "execute_result",
          "data": {
            "text/plain": [
              "(0.9974570870399475, 0.7077509760856628)"
            ]
          },
          "metadata": {
            "tags": []
          },
          "execution_count": 50
        }
      ]
    },
    {
      "cell_type": "code",
      "metadata": {
        "id": "YvoZPZc7VxDz",
        "outputId": "5ecb53e3-bae7-4530-f3d1-90a3a5978d1f",
        "colab": {
          "base_uri": "https://localhost:8080/",
          "height": 1219
        }
      },
      "source": [
        "c = 1/10000\n",
        "print(f\"Lambda: {c}\")\n",
        "\n",
        "model7 = Sequential()\n",
        "model7.add(Embedding(180000, 128, input_length=39, embeddings_regularizer=regularizers.l1(c)))\n",
        "model7.add(Dense(128, activation='relu', activity_regularizer=regularizers.l2(c))) \n",
        "model7.add(Dense(128, activation='relu', activity_regularizer=regularizers.l2(c)))\n",
        "model7.add(GlobalMaxPooling1D())\n",
        "model7.add(Dense(2, activation='sigmoid'))\n",
        "model7.compile(loss='sparse_categorical_crossentropy', optimizer='adam', metrics=['accuracy'])\n",
        "history7 = model7.fit(train_sequences, y_train, validation_split=0.2, epochs=10)\n",
        "plot_validation_model(history7)\n"
      ],
      "execution_count": 51,
      "outputs": [
        {
          "output_type": "stream",
          "text": [
            "Lambda: 0.0001\n",
            "Epoch 1/10\n"
          ],
          "name": "stdout"
        },
        {
          "output_type": "stream",
          "text": [
            "/usr/local/lib/python3.6/dist-packages/tensorflow/python/framework/indexed_slices.py:432: UserWarning: Converting sparse IndexedSlices to a dense Tensor of unknown shape. This may consume a large amount of memory.\n",
            "  \"Converting sparse IndexedSlices to a dense Tensor of unknown shape. \"\n"
          ],
          "name": "stderr"
        },
        {
          "output_type": "stream",
          "text": [
            "197/197 [==============================] - 43s 219ms/step - loss: 6.3699 - accuracy: 0.6392 - val_loss: 0.8858 - val_accuracy: 0.7141\n",
            "Epoch 2/10\n",
            "197/197 [==============================] - 43s 218ms/step - loss: 0.8904 - accuracy: 0.7061 - val_loss: 0.8710 - val_accuracy: 0.7179\n",
            "Epoch 3/10\n",
            "197/197 [==============================] - 43s 219ms/step - loss: 0.8771 - accuracy: 0.7287 - val_loss: 0.8696 - val_accuracy: 0.7452\n",
            "Epoch 4/10\n",
            "197/197 [==============================] - 43s 219ms/step - loss: 0.8653 - accuracy: 0.7455 - val_loss: 0.8943 - val_accuracy: 0.7376\n",
            "Epoch 5/10\n",
            "197/197 [==============================] - 43s 218ms/step - loss: 0.8623 - accuracy: 0.7665 - val_loss: 0.8974 - val_accuracy: 0.7535\n",
            "Epoch 6/10\n",
            "197/197 [==============================] - 43s 217ms/step - loss: 0.8507 - accuracy: 0.7832 - val_loss: 0.9077 - val_accuracy: 0.7541\n",
            "Epoch 7/10\n",
            "197/197 [==============================] - 43s 219ms/step - loss: 0.8301 - accuracy: 0.8047 - val_loss: 0.9171 - val_accuracy: 0.7548\n",
            "Epoch 8/10\n",
            "197/197 [==============================] - 44s 221ms/step - loss: 0.7970 - accuracy: 0.8242 - val_loss: 0.9459 - val_accuracy: 0.7579\n",
            "Epoch 9/10\n",
            "197/197 [==============================] - 43s 218ms/step - loss: 0.7659 - accuracy: 0.8396 - val_loss: 0.9604 - val_accuracy: 0.7618\n",
            "Epoch 10/10\n",
            "197/197 [==============================] - 43s 217ms/step - loss: 0.7300 - accuracy: 0.8566 - val_loss: 0.9999 - val_accuracy: 0.7554\n"
          ],
          "name": "stdout"
        },
        {
          "output_type": "display_data",
          "data": {
            "image/png": "[encoded data removed]",
            "text/plain": [
              "<Figure size 576x432 with 1 Axes>"
            ]
          },
          "metadata": {
            "tags": [],
            "needs_background": "light"
          }
        },
        {
          "output_type": "display_data",
          "data": {
            "image/png": "[encoded data removed]",
            "text/plain": [
              "<Figure size 576x432 with 1 Axes>"
            ]
          },
          "metadata": {
            "tags": [],
            "needs_background": "light"
          }
        },
        {
          "output_type": "execute_result",
          "data": {
            "text/plain": [
              "(0.8396376371383667, 0.761753499507904)"
            ]
          },
          "metadata": {
            "tags": []
          },
          "execution_count": 51
        }
      ]
    },
    {
      "cell_type": "code",
      "metadata": {
        "id": "NPdp4d1xVxD1"
      },
      "source": [
        "c = 1/100000\n",
        "print(f\"Lambda: {c}\")\n",
        "\n",
        "model8 = Sequential()\n",
        "model8.add(Embedding(180000, 128, input_length=39, embeddings_regularizer=regularizers.l1(c)))\n",
        "model8.add(Dense(128, activation='relu', activity_regularizer=regularizers.l2(c))) \n",
        "model8.add(Dense(128, activation='relu', activity_regularizer=regularizers.l2(c)))\n",
        "model8.add(GlobalMaxPooling1D())\n",
        "model8.add(Dense(2, activation='sigmoid'))\n",
        "model8.compile(loss='sparse_categorical_crossentropy', optimizer='adam', metrics=['accuracy'])\n",
        "\n",
        "callbacks_ = [\n",
        "    tf.keras.callbacks.EarlyStopping(\n",
        "            monitor='val_loss', min_delta=0, patience=3, verbose=0, mode='auto',\n",
        "            baseline=None, restore_best_weights=False\n",
        "            )\n",
        "]\n",
        "\n",
        "history8 = model8.fit(train_sequences, y_train, validation_split=0.2, epochs=10, callbacks=callbacks_)\n",
        "plot_validation_model(history8)"
      ],
      "execution_count": 53,
      "outputs": []
    },
    {
      "cell_type": "code",
      "metadata": {
        "id": "KLL0gaosVxD3"
      },
      "source": [
        ""
      ],
      "execution_count": null,
      "outputs": []
    }
  ]
}